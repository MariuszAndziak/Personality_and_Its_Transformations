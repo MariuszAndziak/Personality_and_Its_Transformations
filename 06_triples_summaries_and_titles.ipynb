{
  "cells": [
    {
      "cell_type": "markdown",
      "metadata": {
        "id": "sAzoFrAfQsN-"
      },
      "source": [
        "### Personality and It's Transformations ###"
      ]
    },
    {
      "cell_type": "markdown",
      "metadata": {
        "id": "kTD_ughYQvcF"
      },
      "source": [
        "An analysis of prof. Jordan Peterson's collection of lectures from University of Toronto personality course."
      ]
    },
    {
      "attachments": {},
      "cell_type": "markdown",
      "metadata": {
        "id": "Pa3-KhT5PUf0"
      },
      "source": [
        "|    More about prof. Peterson at https://www.jordanbpeterson.com/"
      ]
    },
    {
      "cell_type": "markdown",
      "metadata": {
        "id": "8DGopcoXPY6g"
      },
      "source": [
        "---"
      ]
    },
    {
      "cell_type": "code",
      "execution_count": null,
      "metadata": {
        "id": "jaG_hEEx-6tp"
      },
      "outputs": [],
      "source": [
        "# main imports\n",
        "import os\n",
        "import json\n",
        "\n",
        "import pandas as pd\n",
        "from tqdm import tqdm\n",
        "\n",
        "from langchain import OpenAI, PromptTemplate, LLMChain\n",
        "from langchain.prompts import PromptTemplate\n",
        "from langchain.docstore.document import Document\n",
        "from langchain.chains.summarize import load_summarize_chain\n",
        "from langchain.text_splitter import CharacterTextSplitter\n",
        "import textwrap\n",
        "\n",
        "from constants import *"
      ]
    },
    {
      "cell_type": "markdown",
      "metadata": {
        "id": "qpCCEIl3hdQZ"
      },
      "source": [
        "<div class=\"tomcolor8\">  \n",
        "<h4 style=\"background:#135e96; color:white ;font-size:15px;line-height:1em; text-align:left; padding: 20px\">\n",
        "      Credentials set-up</h4> \n",
        " </div>"
      ]
    },
    {
      "cell_type": "code",
      "execution_count": null,
      "metadata": {
        "id": "h9RQXb7E_IJ9"
      },
      "outputs": [],
      "source": [
        "def load_api_keys(credentials_file_name: str = 'credentials.json') -> tuple:\n",
        "    '''Load API keys from file\n",
        "\n",
        "    Arguments:\n",
        "        credentials_file_name: name of file containing credentials\n",
        "\n",
        "    Returns:\n",
        "        A tuple containing OpenAI API Key, Pinecone API key and Pinecone API\n",
        "        environment name\n",
        "\n",
        "    '''\n",
        "    \n",
        "    if os.path.exists(credentials_file_name):\n",
        "\n",
        "      # open credentials file \n",
        "        with open(credentials_file_name) as f:\n",
        "            content = json.load(f)\n",
        "\n",
        "            # load api keys\n",
        "            OPENAI_API_KEY = content['OPENAI_API_KEY']\n",
        "    else:\n",
        "        return f'No file {credentials_file_name} or file corrupted'\n",
        "\n",
        "    return OPENAI_API_KEY\n"
      ]
    },
    {
      "cell_type": "code",
      "execution_count": null,
      "metadata": {
        "id": "gwaR5cVWALl0"
      },
      "outputs": [],
      "source": [
        "# load the API keys from credential file and setup OPENAI API KEY as an environmental\n",
        "# variable\n",
        "os.environ['OPENAI_API_KEY'] = load_api_keys('credentials.json')"
      ]
    },
    {
      "cell_type": "code",
      "execution_count": null,
      "metadata": {
        "id": "762k6Vxfd6Os"
      },
      "outputs": [],
      "source": []
    },
    {
      "cell_type": "markdown",
      "metadata": {
        "id": "RNj2XXUWARUb"
      },
      "source": [
        "<div class=\"tomcolor8\">  \n",
        "<h4 style=\"background:#135e96; color:white ;font-size:15px;line-height:1em; text-align:left; padding: 20px\">\n",
        "      Load the data</h4> \n",
        "</div>"
      ]
    },
    {
      "cell_type": "markdown",
      "metadata": {
        "id": "qhFc3ml8YXHc"
      },
      "source": [
        "The data consists of text and summaries constructed from previous notebooks."
      ]
    },
    {
      "cell_type": "code",
      "execution_count": null,
      "metadata": {
        "id": "NXz2DA8WBAg0"
      },
      "outputs": [],
      "source": [
        "df =  pd.read_csv(f'{OUTPUT_FOLDER}\\{CLUSTERED_TOPICS_DATAFRAME_NAME}_with_summaries.csv')"
      ]
    },
    {
      "cell_type": "markdown",
      "metadata": {
        "id": "O4G8HNNNp6Vc"
      },
      "source": [
        "<div class=\"tomcolor8\">  \n",
        "<h4 style=\"background:#135e96; color:white ;font-size:15px;line-height:1em; text-align:left; padding: 20px\">\n",
        "      ELI5 sentence summaries</h4> \n",
        "</div>"
      ]
    },
    {
      "cell_type": "markdown",
      "metadata": {
        "id": "23OvEInzoD-N"
      },
      "source": [
        "There already are texts that contain summaries that are present in the dataframe. The goal of this section is to construct a concise summary in the most simple form possible. This will be one of the steps in gradually revealing the knowledge hidden inside the lecture notes."
      ]
    },
    {
      "cell_type": "markdown",
      "metadata": {
        "id": "9K2Aem8Ho95v"
      },
      "source": [
        "<div class=\"tomcolor8\">  \n",
        "<h4 style=\"background:#135e96; color:white ;font-size:15px;line-height:1em; text-align:left; padding: 20px\">\n",
        "      Define text splitter</h4> \n",
        "</div>"
      ]
    },
    {
      "cell_type": "code",
      "execution_count": null,
      "metadata": {
        "id": "0b8PEJCqsutA"
      },
      "outputs": [],
      "source": [
        "llm = OpenAI(temperature = 0)\n",
        "text_splitter = CharacterTextSplitter(chunk_size = 1000, chunk_overlap = 0, separator=' ')"
      ]
    },
    {
      "cell_type": "markdown",
      "metadata": {
        "id": "1SCFQFTDpJHF"
      },
      "source": [
        "<div class=\"tomcolor8\">  \n",
        "<h4 style=\"background:#135e96; color:white ;font-size:15px;line-height:1em; text-align:left; padding: 20px\">\n",
        "      Define the prompts for eli5 type summary</h4> \n",
        "</div>"
      ]
    },
    {
      "cell_type": "code",
      "execution_count": null,
      "metadata": {
        "id": "OOY8_RmkkRjr"
      },
      "outputs": [],
      "source": [
        "# main prompt for summarization\n",
        "ELI5_SENTENCE_SUMMARY_PROMPT = PromptTemplate(\n",
        "    input_variables=['text'],\n",
        "    template = \"\"\"\n",
        "    You are given a text. Write a concise summary of the provided text. The summary must have a proper gramatical structure. It should begin with an upper case letter and end with a full stop. The summary must not begin with a space or a word with a lower case letter and still it must be gramatically correct.\n",
        "    Provided text: {text}\"\"\"\n",
        ")\n",
        "\n",
        "# refinement prompt\n",
        "ELI5_SENTENCE_REFINE_PROMPT = PromptTemplate(\n",
        "    input_variables = ['existing_answer', 'text'],\n",
        "    template = \"\"\"\n",
        "    Your job is to produce the final  sentence summary of a text. The final summary should be presented in the most simple terms possible. Explain it to me like I am 5. There is an existing summary up to a certain point: {existing_answer}. But there is an opportunity to refine the existing summary with some new context: {text}.\n",
        "    ---\n",
        "    Given the numer information refine the current summary. The final summary must be one sentence.\n",
        "    \"\"\"\n",
        ")"
      ]
    },
    {
      "cell_type": "markdown",
      "metadata": {
        "id": "h3lmBifrpkkm"
      },
      "source": [
        "The command of generatring one sentence as the final output seems to be discarded when dealing with refine type summary."
      ]
    },
    {
      "cell_type": "code",
      "execution_count": null,
      "metadata": {
        "id": "FtLASAS9nWwh"
      },
      "outputs": [],
      "source": [
        "# construct the summarization chain\n",
        "eli5_sentence_summary_chain = load_summarize_chain(llm, chain_type = 'refine',\n",
        "                                                   question_prompt = ELI5_SENTENCE_SUMMARY_PROMPT, \n",
        "                                                   refine_prompt = ELI5_SENTENCE_REFINE_PROMPT)"
      ]
    },
    {
      "cell_type": "code",
      "execution_count": null,
      "metadata": {
        "colab": {
          "base_uri": "https://localhost:8080/"
        },
        "id": "EneIKRuVmQPB",
        "outputId": "69f320f1-a6de-4d45-a662-c9474509db4e"
      },
      "outputs": [
        {
          "name": "stdout",
          "output_type": "stream",
          "text": [
            "Done 1/22\n",
            "Done 2/22\n",
            "Done 3/22\n",
            "Done 4/22\n",
            "Done 5/22\n",
            "Done 6/22\n",
            "Done 7/22\n",
            "Done 8/22\n",
            "Done 9/22\n",
            "Done 10/22\n",
            "Done 11/22\n",
            "Done 12/22\n",
            "Done 13/22\n",
            "Done 14/22\n",
            "Done 15/22\n",
            "Done 16/22\n",
            "Done 17/22\n",
            "Done 18/22\n",
            "Done 19/22\n",
            "Done 20/22\n",
            "Done 21/22\n",
            "Done 22/22\n"
          ]
        }
      ],
      "source": [
        "# list as a placeholder for the outputs; the first entry is just noise, so no \n",
        "# need to perform the summary on noisy data\n",
        "eli5_sentence_summaries = ['[NOISE]']\n",
        "\n",
        "# number of all clusters when we exclude the noise cluster (22)\n",
        "N = df.shape[0] - 1\n",
        "\n",
        "# iterate over every summary\n",
        "for n, doc in enumerate(df['summary'][1:],1):\n",
        "\n",
        "  # split the text using text_splitter\n",
        "  texts = text_splitter.split_text(doc)\n",
        "  docs = [Document(page_content=t) for t in texts]\n",
        "\n",
        "  # perform a summarization chain \n",
        "  output = eli5_sentence_summary_chain({'input_documents': docs}, return_only_outputs = True)\n",
        "  \n",
        "  print(f'Done {n}/{N}')\n",
        "  eli5_sentence_summaries.append(output)  "
      ]
    },
    {
      "cell_type": "code",
      "execution_count": 193,
      "metadata": {
        "colab": {
          "base_uri": "https://localhost:8080/"
        },
        "id": "8EMR2ItG4Vto",
        "outputId": "396bfb3a-9b5f-4272-d06e-349b0f5cc574"
      },
      "outputs": [
        {
          "data": {
            "text/plain": [
              "['[NOISE]',\n",
              " \"\\nJordan Peterson's Course is a wide-ranging program that follows certain principles, such as not teaching anything irrelevant, and encourages students to read original source material, consider the implications of their decisions, strive for an optimal ratio domain, and explore the concept of morality being relative and the lack of ultimate meaning.\",\n",
              " '\\nReading books, watching movies, and TV shows can help us understand what is important in life. Additionally, books can help us interpret the world around us and the interplay of all of the elements of being, allowing us to follow threads of meaning and discover meaningful things by branching out a network and following a pathway.',\n",
              " '\\nThis article examines how stories and rituals, passed down for thousands of years, have been used to shape the world by exploring human behavior, archetypal story structures, and shamanic rituals to understand the archetype of transformation.',\n",
              " \"\\nBabies are born prematurely with large heads and wide hips, which is hard on the baby but necessary for the mother's survival. They come pre-wired with the ability to use their mouth and tongue to feed, which helps them develop their personality and learn how to interact with the world.\",\n",
              " \"\\nPiaget's theories suggest that children come into the world with an information-seeking structure and use games to learn about the world, which is illustrated in the biblical story of Jonah and the story of Sleeping Beauty, where parents who do too much for their children can lead to an Oedipal's situation.\",\n",
              " '\\nHumans have the unique ability to recognize and adapt to hierarchical structures, use tools, develop complex behaviors, and use fire, which no other animal can manage, for at least 6 million years, allowing them to outsource their digestion and extract more nutrients from food.',\n",
              " '\\nNietzsche and Dostoevsky argued that the systems of meaning within which Western civilization operated were becoming increasingly inadequate, and that one can tell the character of a human being by how much truth they are willing to tolerate. Martin Heidegger wanted to take a fresh look at this inadequacy, which was explored in Dostoevsky\\'s novel \"Notes from Underground\", and argued that modern people had made a fundamental philosophical error when they started concentrating on the wrong elements of reality, leading to consequences seen in Nazi Germany and the Soviet Union.',\n",
              " '\\nPersonality is a complex phenomenon, shaped by cultural history, moral philosophy, and biology, and is the result of a long evolutionary process, where individual goals, desires, perceptions, motor behaviors, and environmental changes are integrated with cultural knowledge and universal human biology to influence two classes of social behavior: reproductive and defensive.',\n",
              " \"\\nWilder Penfield was a neurosurgeon who studied the brain's underlying neurobiological basis, such as the motor cortex, prefrontal cortex, extraversion and neuroticism, and the hippocampus in memory, as well as the importance of the visual system and motivated behaviour in organizing our lives.\",\n",
              " '\\nPhenomenologists are a complex group of people who are socially adept, can use a mirror to guide their actions, switch between domains, and possess a distinction between flesh and fat. They can be dangerous and appear out of nowhere, manifesting themselves strangely and containing power that they instinctively know.',\n",
              " '\\n\\nPsychology 230 is a course that covers topics such as IQ, David Hume, Jung, Dudley, Umbridge, and Hansel and Gretel. The instructor encourages the students to take the exam on Thursday and emphasizes the importance of creativity and joy. They also discuss the importance of not taking offense directly, and the answer to a question is both yes and no.',\n",
              " '\\nThis text explores the need to identify solutions to various issues, the difference between facts and useful facts, the importance of understanding why certain solutions make sense, the need to conceptualize oneself as an active agent, the topics of social expectations, terror management theory, and the need to have a certain number of positive interactions per negative interaction, as well as social, political, and economic utility, and the idea of finding meaning in seemingly mundane tasks.',\n",
              " '\\n\\nThis text emphasizes the importance of considering context, understanding the perspective of others, and taking turns while talking. It encourages the reader to think about what they see in a picture, to consider the implications of their decisions, and to recognize when someone is genuinely happy. It provides an example of how to use context effectively and provides a cheerful piece of information about hydrogen bombs. Additionally, it encourages the reader to pay attention to the reactions of others and to be aware of their environment.',\n",
              " '\\nIt is important to recognize and understand the underlying causes of anger, which can be seen in physical displays and can play out as a drama in the environment. Primary and secondary motivations, such as hunger, thirst, pain, anger, thermoregulation, panic or escape, affiliation or care, sexual desire, exploration, self-maintenance, self-propagation, and play, drive us and can lead to dark and destructive theories of revenge and mayhem.',\n",
              " '\\nBeing self-conscious involves recognizing our own physical envelope, understanding ourselves and other creatures, and being able to evaluate the world and make decisions that are in line with our values, while also recognizing our own sub-personalities, political views, and how they can help us remain independent and not be controlled by any one system.',\n",
              " '\\nFreud and Jung are often compared to a microscope and telescope respectively, with Freud being the first to explore personality dynamics and Jung focusing on similarities between people, archetypes, and the unconscious. Freud also studied familial dynamics, aggression, sexuality, and the effects of past trauma on pathology.',\n",
              " '\\nThis year, grades will be curved and 7.5% of the grade will be based on a Personality Self-Analysis which uses the same process as IQ tests to measure intelligence. This has led to billions of dollars being invested in cognitive remediation programs, such as the Big Ten Model, which breaks down personality traits into two aspects to help people with lower IQs climb into the middle class.',\n",
              " '\\nPersonality psychology is a complex field of study that combines multiple disciplines, such as psychology, philosophy, engineering, and medicine, to promote health and wellness. It uses psychometrics and clinical psychology to help people understand and overcome their fears, and scientists use scientific knowledge to make things better and faster.',\n",
              " '\\nUnderstanding people is a complex task that requires more than one tool, and it is often difficult to interpret the data due to the many variables at play. Despite the difficulty, it is worth the effort to learn a lot about people and their health domains, as it is often the same 30 things that need to be taken care of the same way each time.',\n",
              " '\\nIt is important to be aware of the biological, emotional, and potential consequences of decisions when approaching a situation, and to consider refining existing solutions to better suit the situation.',\n",
              " '\\nWhen faced with difficult situations, such as a relationship breakdown, we should step back, try to understand the situation, and approach those involved with respect, being aware that they may be trying to manipulate us for their own gain. We should strive for congruence of experience, so that we can come out the other side smarter and more together than before.',\n",
              " '\\nIt is important to make value judgments, confront fears and avoidances, and adapt to different situations in order to learn and grow.']"
            ]
          },
          "execution_count": 193,
          "metadata": {},
          "output_type": "execute_result"
        }
      ],
      "source": [
        "# extract text from the generated dictionary\n",
        "cleaned_up_sentence_summaries = [val['output_text'] for n, val in enumerate(eli5_sentence_summaries[1:])]\n",
        "cleaned_up_sentence_summaries.insert(0, '[NOISE]')\n",
        "cleaned_up_sentence_summaries"
      ]
    },
    {
      "cell_type": "code",
      "execution_count": 194,
      "metadata": {
        "id": "fDyLp-Mq-w2U"
      },
      "outputs": [],
      "source": [
        "df['eli5_sentence_summary'] = cleaned_up_sentence_summaries"
      ]
    },
    {
      "cell_type": "markdown",
      "metadata": {
        "id": "pMLGyNvOUcnz"
      },
      "source": [
        "<div class=\"tomcolor8\">  \n",
        "<h4 style=\"background:#135e96; color:white ;font-size:15px;line-height:1em; text-align:left; padding: 20px\">\n",
        "      Titles generation</h4> \n",
        "</div>"
      ]
    },
    {
      "cell_type": "code",
      "execution_count": 196,
      "metadata": {
        "colab": {
          "base_uri": "https://localhost:8080/"
        },
        "id": "OzyqmPBFRMK_",
        "outputId": "e5b8310b-7860-423f-c92c-88cce117225a"
      },
      "outputs": [
        {
          "name": "stdout",
          "output_type": "stream",
          "text": [
            "Done 1/22\n",
            "Done 2/22\n",
            "Done 3/22\n",
            "Done 4/22\n",
            "Done 5/22\n",
            "Done 6/22\n",
            "Done 7/22\n",
            "Done 8/22\n",
            "Done 9/22\n",
            "Done 10/22\n",
            "Done 11/22\n",
            "Done 12/22\n",
            "Done 13/22\n",
            "Done 14/22\n",
            "Done 15/22\n",
            "Done 16/22\n",
            "Done 17/22\n",
            "Done 18/22\n",
            "Done 19/22\n",
            "Done 20/22\n",
            "Done 21/22\n",
            "Done 22/22\n"
          ]
        }
      ],
      "source": [
        "# main prompt for title generation\n",
        "TITLE_PROMPT = PromptTemplate(\n",
        "    input_variables=['text'],\n",
        "    template = \"\"\"\n",
        "    You are given a text which is a breaf summary of a part of a lecture. Write a title for this text. The title should be a couple of words long. Don't produce full sentences only concise tutles.\n",
        "    Provided text: {text}\"\"\"\n",
        ")\n",
        "\n",
        "title_chain = LLMChain(llm = llm, prompt = TITLE_PROMPT)\n",
        "\n",
        "# placeholder for generated titles\n",
        "titles = []\n",
        "titles.append('[NOISE]')\n",
        "\n",
        "for n, doc in enumerate(df['eli5_sentence_summary'][1:],1):\n",
        "  output = title_chain.run(doc)\n",
        "  print(f'Done {n}/{N}')\n",
        "  titles.append(output)  "
      ]
    },
    {
      "cell_type": "code",
      "execution_count": 197,
      "metadata": {
        "colab": {
          "base_uri": "https://localhost:8080/"
        },
        "id": "SVjUQRlzSAQn",
        "outputId": "dee0ccbc-5cf2-4880-e5b7-cca0b6f5904a"
      },
      "outputs": [
        {
          "data": {
            "text/plain": [
              "['[NOISE]',\n",
              " '\\n\\nJordan Peterson Course Overview',\n",
              " '\\n\\nUnderstanding Life Through Media',\n",
              " '\\n\\n\"Story and Rituals: Shaping the World\"',\n",
              " \"\\n\\nPremature Babies' Development\",\n",
              " \"\\n\\nPiaget's Theories and Games\",\n",
              " '\\n\\nHumans and Fire.',\n",
              " '\\n\\n\"Inadequacy of Meaning\"',\n",
              " '\\n\\nPersonality Development',\n",
              " \"\\n\\nWilder Penfield's Research\",\n",
              " '\\n\\nPhenomenologists: Complex Group',\n",
              " '\\n\\nPsychology 230 Exam',\n",
              " '\\n\\nFinding Meaning in Life.',\n",
              " '\\n\\nConsidering Context and Perspective',\n",
              " '\\n\\nUnderstanding Anger Causes',\n",
              " '\\n\\nSelf-Consciousness Exploration',\n",
              " '\\n\\nFreud and Jung: Comparisons',\n",
              " '\\n\\nPersonality Self-Analysis Programs',\n",
              " '\\n\\nPersonality Psychology.',\n",
              " '\\n\\nInterpreting People and Health Domains',\n",
              " '\\n\\nRefining Solutions.',\n",
              " '\\n\\nRelationship Breakdowns',\n",
              " '\\n\\nLearning and Growth.']"
            ]
          },
          "execution_count": 197,
          "metadata": {},
          "output_type": "execute_result"
        }
      ],
      "source": [
        "titles"
      ]
    },
    {
      "cell_type": "code",
      "execution_count": 198,
      "metadata": {
        "id": "iOerLcScY0Ob"
      },
      "outputs": [],
      "source": [
        "df['titles'] = titles"
      ]
    },
    {
      "cell_type": "markdown",
      "metadata": {
        "id": "6-ia2m2Vm29S"
      },
      "source": [
        "<div class=\"tomcolor8\">  \n",
        "<h4 style=\"background:#135e96; color:white ;font-size:15px;line-height:1em; text-align:left; padding: 20px\">\n",
        "      Triples construction</h4> \n",
        "</div>"
      ]
    },
    {
      "cell_type": "markdown",
      "metadata": {
        "id": "C_9UqhLgsljv"
      },
      "source": [
        "Triples are three group words or phrases that share a common relationship. Usually the first phrase is connected with the last phrase through the middle one. Triples are comonly used when building knowledge graphs."
      ]
    },
    {
      "cell_type": "code",
      "execution_count": null,
      "metadata": {
        "id": "mDlllFM_gBW4"
      },
      "outputs": [],
      "source": [
        "# triple generation prompt\n",
        "TRIPLES_PROMPT = PromptTemplate(\n",
        "    input_variables = ['doc'],\n",
        "    template = 'Take the following text and extract only the key information out of it. Then take your answer and turn it into triples for a knowledge graph. Your final answer should be output in a form of a triple. Your text: {doc}'\n",
        ")"
      ]
    },
    {
      "cell_type": "code",
      "execution_count": null,
      "metadata": {
        "id": "8rHnIsdhhYH2"
      },
      "outputs": [],
      "source": [
        "# a simple chain for triple generation\n",
        "tri_chain = LLMChain(llm = llm, prompt = TRIPLES_PROMPT)"
      ]
    },
    {
      "cell_type": "code",
      "execution_count": null,
      "metadata": {
        "colab": {
          "base_uri": "https://localhost:8080/"
        },
        "id": "_nibi3n3hk7I",
        "outputId": "14605784-f9e6-49cd-bc4c-57648a01ce1b"
      },
      "outputs": [
        {
          "name": "stdout",
          "output_type": "stream",
          "text": [
            "Done 1/22\n",
            "Done 2/22\n",
            "Done 3/22\n",
            "Done 4/22\n",
            "Done 5/22\n",
            "Done 6/22\n",
            "Done 7/22\n",
            "Done 8/22\n",
            "Done 9/22\n",
            "Done 10/22\n",
            "Done 11/22\n",
            "Done 12/22\n",
            "Done 13/22\n",
            "Done 14/22\n",
            "Done 15/22\n",
            "Done 16/22\n",
            "Done 17/22\n",
            "Done 18/22\n",
            "Done 19/22\n",
            "Done 20/22\n",
            "Done 21/22\n",
            "Done 22/22\n"
          ]
        }
      ],
      "source": [
        "triples = []\n",
        "\n",
        "for n, doc in enumerate(df['summary'][1:],1):\n",
        "  output = tri_chain.run(doc)\n",
        "  print(f'Done {n}/{N}')\n",
        "  triples.append(output)  "
      ]
    },
    {
      "cell_type": "markdown",
      "metadata": {
        "id": "YLs4Bxviw2SD"
      },
      "source": [
        "### Triples overview"
      ]
    },
    {
      "cell_type": "code",
      "execution_count": null,
      "metadata": {
        "colab": {
          "base_uri": "https://localhost:8080/",
          "height": 53
        },
        "id": "2g1vEtafjLSm",
        "outputId": "f44be6ff-284b-4e0d-87f7-2ae9fd56e88d"
      },
      "outputs": [
        {
          "data": {
            "application/vnd.google.colaboratory.intrinsic+json": {
              "type": "string"
            },
            "text/plain": [
              "' you want to understand the world, you should read books, watch movies, and engage in conversations with people.\\n\\nReading books, watching movies, and engaging in conversations with people can help gain a better understanding of the world. Triple: (Subject: Understanding the World, Predicate: Can be Gained By, Object: Reading Books, Watching Movies, Engaging in Conversations)'"
            ]
          },
          "execution_count": 46,
          "metadata": {},
          "output_type": "execute_result"
        }
      ],
      "source": [
        "triples[1]"
      ]
    },
    {
      "cell_type": "code",
      "execution_count": null,
      "metadata": {
        "colab": {
          "base_uri": "https://localhost:8080/",
          "height": 87
        },
        "id": "VQkp7427jAwq",
        "outputId": "f26b1303-6527-46d1-e901-5c68ba50cb55"
      },
      "outputs": [
        {
          "data": {
            "application/vnd.google.colaboratory.intrinsic+json": {
              "type": "string"
            },
            "text/plain": [
              "' have the unique ability to use language, which no other animal can do.\\n\\nTriples: \\n(Dolphins, possess, self-consciousness) \\n(Humans, master, fire) \\n(2 million years ago, time of, mastering fire) \\n(Wolves, establish hierarchy, dominance and submission strategies) \\n(400 million years, time of, dominance and submission strategies) \\n(Baboons, establish hierarchy, dominance and submission strategies) \\n(50,000 years, time of, dominance and submission strategies) \\n(Dogs, genetically similar, wolves) \\n(Humans, unique ability, get along with dogs) \\n(Humans, unique ability, learn and adapt quickly) \\n(Humans, unique ability, use fire) \\n(Humans, unique ability, use language)'"
            ]
          },
          "execution_count": 60,
          "metadata": {},
          "output_type": "execute_result"
        }
      ],
      "source": [
        "triples[5]"
      ]
    },
    {
      "cell_type": "code",
      "execution_count": null,
      "metadata": {
        "colab": {
          "base_uri": "https://localhost:8080/",
          "height": 53
        },
        "id": "qcrzYo0ujLCo",
        "outputId": "ea909659-659f-4e01-8ab4-efedf57062b4"
      },
      "outputs": [
        {
          "data": {
            "application/vnd.google.colaboratory.intrinsic+json": {
              "type": "string"
            },
            "text/plain": [
              "' implications of seemingly irrational decisions.\\n\\nFacts and useful facts differ in relevance criteria, and understanding why certain solutions make sense is important for active agents. Triple: (Facts, differ_in, relevance_criteria), (understanding, important_for, active_agents).'"
            ]
          },
          "execution_count": 50,
          "metadata": {},
          "output_type": "execute_result"
        }
      ],
      "source": [
        "triples[11]"
      ]
    },
    {
      "cell_type": "code",
      "execution_count": null,
      "metadata": {
        "colab": {
          "base_uri": "https://localhost:8080/",
          "height": 157
        },
        "id": "jOohHfbwu3U9",
        "outputId": "07bc69b2-193a-4831-d2f4-c20934dacf4f"
      },
      "outputs": [
        {
          "data": {
            "application/vnd.google.colaboratory.intrinsic+json": {
              "type": "string"
            },
            "text/plain": [
              "\".  Personality is a complex field of study in psychology that encompasses multiple subdisciplines, such as clinical and experimental psychology, philosophy, engineering, and medicine. It is a mix of science and value-laden categories, as it is concerned with the promotion of health and wellness. When considering what a healthy personality might be, it is not just the absence of pathology, but rather the development of positive potential. Personality psychology is a wide-ranging course, with an emphasis on clinical theoreticians, such as psychoanalysts, depth psychologists, constructivists, humanists, existentialists, and phenomenologists. The last half of the course concentrates on two elements of personality theory; more modern elements such as psychometrics, which is an unpopular field of psychology due to the discovery of technical psychometric intelligence by engineers, and clinical psychologists' suggestion that running away from something one is afraid of can make it larger and faster. Additionally, scientists need to be able to generate hypotheses as well as test them. Clinical psychologists and psychiatrists are not necessarily scientists, but rather engineers, who use scientific knowledge to make things better. Doctors are not even trained to be scientists, and their work is informed by science, such as the US Army's psychometric testing for officers\""
            ]
          },
          "execution_count": 62,
          "metadata": {},
          "output_type": "execute_result"
        }
      ],
      "source": [
        "df['summary'][18]"
      ]
    },
    {
      "cell_type": "code",
      "execution_count": null,
      "metadata": {
        "id": "QfzzKGiCwm-t"
      },
      "outputs": [],
      "source": [
        "triples.insert(0, '[NOISE]')"
      ]
    },
    {
      "cell_type": "code",
      "execution_count": null,
      "metadata": {
        "id": "uXktaWpwu2q6"
      },
      "outputs": [],
      "source": [
        "df['triples'] = triples"
      ]
    },
    {
      "cell_type": "markdown",
      "metadata": {
        "id": "0oyObMvFwy3A"
      },
      "source": [
        "<div class=\"tomcolor8\">  \n",
        "<h4 style=\"background:#135e96; color:white ;font-size:15px;line-height:1em; text-align:left; padding: 20px\">\n",
        "      Export</h4> "
      ]
    },
    {
      "cell_type": "code",
      "execution_count": 200,
      "metadata": {
        "id": "PbX2sHLPVqq5"
      },
      "outputs": [],
      "source": [
        "df.to_csv(f'{OUTPUT_FOLDER}/{CLUSTERED_TOPICS_DATAFRAME_NAME}_full_breakdown.csv')"
      ]
    },
    {
      "cell_type": "code",
      "execution_count": 199,
      "metadata": {
        "colab": {
          "base_uri": "https://localhost:8080/",
          "height": 1000
        },
        "id": "hrL9LJnUKosk",
        "outputId": "f3c1648a-2262-42c6-85bb-b7748be3ed68"
      },
      "outputs": [
        {
          "data": {
            "text/html": [
              "\n",
              "  <div id=\"df-80a10490-168a-4b19-a607-0163b6ca499f\">\n",
              "    <div class=\"colab-df-container\">\n",
              "      <div>\n",
              "<style scoped>\n",
              "    .dataframe tbody tr th:only-of-type {\n",
              "        vertical-align: middle;\n",
              "    }\n",
              "\n",
              "    .dataframe tbody tr th {\n",
              "        vertical-align: top;\n",
              "    }\n",
              "\n",
              "    .dataframe thead th {\n",
              "        text-align: right;\n",
              "    }\n",
              "</style>\n",
              "<table border=\"1\" class=\"dataframe\">\n",
              "  <thead>\n",
              "    <tr style=\"text-align: right;\">\n",
              "      <th></th>\n",
              "      <th>Unnamed: 0.1</th>\n",
              "      <th>Unnamed: 0</th>\n",
              "      <th>cluster_ids</th>\n",
              "      <th>text</th>\n",
              "      <th>summary</th>\n",
              "      <th>triples</th>\n",
              "      <th>eli5_sentence_summary</th>\n",
              "      <th>titles</th>\n",
              "    </tr>\n",
              "  </thead>\n",
              "  <tbody>\n",
              "    <tr>\n",
              "      <th>0</th>\n",
              "      <td>0</td>\n",
              "      <td>0</td>\n",
              "      <td>-1</td>\n",
              "      <td>So, there’s a website—I don’t really like Blac...</td>\n",
              "      <td>[NOISE_CLUSTER]</td>\n",
              "      <td>[NOISE]</td>\n",
              "      <td>[NOISE]</td>\n",
              "      <td>[NOISE]</td>\n",
              "    </tr>\n",
              "    <tr>\n",
              "      <th>1</th>\n",
              "      <td>1</td>\n",
              "      <td>1</td>\n",
              "      <td>0</td>\n",
              "      <td>So, what I’m going to do today—how I’m going t...</td>\n",
              "      <td>Jordan Peterson's course is wide-ranging and...</td>\n",
              "      <td>\\n\\nTriple 1: Subject: Jordan Peterson's Cours...</td>\n",
              "      <td>\\nJordan Peterson's Course is a wide-ranging p...</td>\n",
              "      <td>\\n\\nJordan Peterson Course Overview</td>\n",
              "    </tr>\n",
              "    <tr>\n",
              "      <th>2</th>\n",
              "      <td>2</td>\n",
              "      <td>2</td>\n",
              "      <td>1</td>\n",
              "      <td>So the first issue is that there’s a lot of re...</td>\n",
              "      <td>The speaker suggests reading novels, literat...</td>\n",
              "      <td>you want to understand the world, you should ...</td>\n",
              "      <td>\\nReading books, watching movies, and TV shows...</td>\n",
              "      <td>\\n\\nUnderstanding Life Through Media</td>\n",
              "    </tr>\n",
              "    <tr>\n",
              "      <th>3</th>\n",
              "      <td>3</td>\n",
              "      <td>3</td>\n",
              "      <td>2</td>\n",
              "      <td>But I think we might as well jump right into t...</td>\n",
              "      <td>This article discusses rituals, stories, and...</td>\n",
              "      <td>Beauty, have been used to explain the human c...</td>\n",
              "      <td>\\nThis article examines how stories and ritual...</td>\n",
              "      <td>\\n\\n\"Story and Rituals: Shaping the World\"</td>\n",
              "    </tr>\n",
              "    <tr>\n",
              "      <th>4</th>\n",
              "      <td>4</td>\n",
              "      <td>4</td>\n",
              "      <td>3</td>\n",
              "      <td>So when we’re first born—we’re very primitive ...</td>\n",
              "      <td>.  Babies are born with limited control of the...</td>\n",
              "      <td>up objects and put them in their mouths.\\nTri...</td>\n",
              "      <td>\\nBabies are born prematurely with large heads...</td>\n",
              "      <td>\\n\\nPremature Babies' Development</td>\n",
              "    </tr>\n",
              "    <tr>\n",
              "      <th>5</th>\n",
              "      <td>5</td>\n",
              "      <td>5</td>\n",
              "      <td>4</td>\n",
              "      <td>And so in the mirror test what you essentially...</td>\n",
              "      <td>.  The Mirror Test is used to assess the socia...</td>\n",
              "      <td>to learn about the world and to develop their...</td>\n",
              "      <td>\\nPiaget's theories suggest that children come...</td>\n",
              "      <td>\\n\\nPiaget's Theories and Games</td>\n",
              "    </tr>\n",
              "    <tr>\n",
              "      <th>6</th>\n",
              "      <td>6</td>\n",
              "      <td>6</td>\n",
              "      <td>5</td>\n",
              "      <td>Now, dolphins seem to be able to manage that, ...</td>\n",
              "      <td>Dolphins, crows, ravens, whales, and humans ...</td>\n",
              "      <td>have the unique ability to use language, whic...</td>\n",
              "      <td>\\nHumans have the unique ability to recognize ...</td>\n",
              "      <td>\\n\\nHumans and Fire.</td>\n",
              "    </tr>\n",
              "    <tr>\n",
              "      <th>7</th>\n",
              "      <td>7</td>\n",
              "      <td>7</td>\n",
              "      <td>6</td>\n",
              "      <td>Now, part of the reason for that is that Nietz...</td>\n",
              "      <td>Nietzsche argued that philosophers are often...</td>\n",
              "      <td>need to create new systems of meaning that co...</td>\n",
              "      <td>\\nNietzsche and Dostoevsky argued that the sys...</td>\n",
              "      <td>\\n\\n\"Inadequacy of Meaning\"</td>\n",
              "    </tr>\n",
              "    <tr>\n",
              "      <th>8</th>\n",
              "      <td>8</td>\n",
              "      <td>8</td>\n",
              "      <td>7</td>\n",
              "      <td>It brings in elements of cultural history, ele...</td>\n",
              "      <td>.  This discussion focuses on the elements of ...</td>\n",
              "      <td>\\n\\nTriple 1: Human Personality - Shaped By - ...</td>\n",
              "      <td>\\nPersonality is a complex phenomenon, shaped ...</td>\n",
              "      <td>\\n\\nPersonality Development</td>\n",
              "    </tr>\n",
              "    <tr>\n",
              "      <th>9</th>\n",
              "      <td>9</td>\n",
              "      <td>9</td>\n",
              "      <td>8</td>\n",
              "      <td>Most of the brain is structured with the olfac...</td>\n",
              "      <td>. Humans have a unique brain structure with th...</td>\n",
              "      <td>allowing for the highest resolution of vision...</td>\n",
              "      <td>\\nWilder Penfield was a neurosurgeon who studi...</td>\n",
              "      <td>\\n\\nWilder Penfield's Research</td>\n",
              "    </tr>\n",
              "    <tr>\n",
              "      <th>10</th>\n",
              "      <td>10</td>\n",
              "      <td>10</td>\n",
              "      <td>9</td>\n",
              "      <td>But they like things cut and dried and laid ou...</td>\n",
              "      <td>.  Phenomenologists are a tricky bunch who are...</td>\n",
              "      <td>a lot of power.\\n\\nTriple: \\nSubject: Phenome...</td>\n",
              "      <td>\\nPhenomenologists are a complex group of peop...</td>\n",
              "      <td>\\n\\nPhenomenologists: Complex Group</td>\n",
              "    </tr>\n",
              "    <tr>\n",
              "      <th>11</th>\n",
              "      <td>11</td>\n",
              "      <td>11</td>\n",
              "      <td>10</td>\n",
              "      <td>So, welcome to Psychology 230. Nice to see you...</td>\n",
              "      <td>.  This is a welcome to Psychology 230. The in...</td>\n",
              "      <td>\\n\\n(IQ, discussed, Psychology 230)\\n(David Hu...</td>\n",
              "      <td>\\n\\nPsychology 230 is a course that covers top...</td>\n",
              "      <td>\\n\\nPsychology 230 Exam</td>\n",
              "    </tr>\n",
              "    <tr>\n",
              "      <th>12</th>\n",
              "      <td>12</td>\n",
              "      <td>12</td>\n",
              "      <td>11</td>\n",
              "      <td>And useful, like there’s a difference between ...</td>\n",
              "      <td>.  This text discusses the difference between ...</td>\n",
              "      <td>implications of seemingly irrational decision...</td>\n",
              "      <td>\\nThis text explores the need to identify solu...</td>\n",
              "      <td>\\n\\nFinding Meaning in Life.</td>\n",
              "    </tr>\n",
              "    <tr>\n",
              "      <th>13</th>\n",
              "      <td>13</td>\n",
              "      <td>13</td>\n",
              "      <td>12</td>\n",
              "      <td>and then you say “Well this is what it’s like....</td>\n",
              "      <td>.  This text discusses the importance of takin...</td>\n",
              "      <td>\\n\\nTaking turns while talking: (Subject, Pred...</td>\n",
              "      <td>\\n\\nThis text emphasizes the importance of con...</td>\n",
              "      <td>\\n\\nConsidering Context and Perspective</td>\n",
              "    </tr>\n",
              "    <tr>\n",
              "      <th>14</th>\n",
              "      <td>14</td>\n",
              "      <td>14</td>\n",
              "      <td>13</td>\n",
              "      <td>You don’t really have to learn what anger mean...</td>\n",
              "      <td>It is not necessary to learn what anger mean...</td>\n",
              "      <td>anger they feel.\\n\\nTriple: (Anger, Represent...</td>\n",
              "      <td>\\nIt is important to recognize and understand ...</td>\n",
              "      <td>\\n\\nUnderstanding Anger Causes</td>\n",
              "    </tr>\n",
              "    <tr>\n",
              "      <th>15</th>\n",
              "      <td>15</td>\n",
              "      <td>15</td>\n",
              "      <td>14</td>\n",
              "      <td>You think in terms of the presence of positive...</td>\n",
              "      <td>Being healthy mentally and physically is key...</td>\n",
              "      <td>importance of self-consciousness in understan...</td>\n",
              "      <td>\\nBeing self-conscious involves recognizing ou...</td>\n",
              "      <td>\\n\\nSelf-Consciousness Exploration</td>\n",
              "    </tr>\n",
              "    <tr>\n",
              "      <th>16</th>\n",
              "      <td>16</td>\n",
              "      <td>16</td>\n",
              "      <td>15</td>\n",
              "      <td>So what I would say is that, you know, Freud’s...</td>\n",
              "      <td>.  Freud is often compared to a microscope and...</td>\n",
              "      <td>.\\nTriple 1: Freud: compared_to: microscope\\nT...</td>\n",
              "      <td>\\nFreud and Jung are often compared to a micro...</td>\n",
              "      <td>\\n\\nFreud and Jung: Comparisons</td>\n",
              "    </tr>\n",
              "    <tr>\n",
              "      <th>17</th>\n",
              "      <td>17</td>\n",
              "      <td>17</td>\n",
              "      <td>16</td>\n",
              "      <td>You know and that requires a fair bit of intel...</td>\n",
              "      <td>This year, grades will be curved and 7.5% of...</td>\n",
              "      <td>, it is possible to increase the predictive va...</td>\n",
              "      <td>\\nThis year, grades will be curved and 7.5% of...</td>\n",
              "      <td>\\n\\nPersonality Self-Analysis Programs</td>\n",
              "    </tr>\n",
              "    <tr>\n",
              "      <th>18</th>\n",
              "      <td>18</td>\n",
              "      <td>18</td>\n",
              "      <td>17</td>\n",
              "      <td>So, personality is a somewhat peculiar field o...</td>\n",
              "      <td>.  Personality is a complex field of study in ...</td>\n",
              "      <td>.\\n\\nTriple: (Personality, encompasses, subdis...</td>\n",
              "      <td>\\nPersonality psychology is a complex field of...</td>\n",
              "      <td>\\n\\nPersonality Psychology.</td>\n",
              "    </tr>\n",
              "    <tr>\n",
              "      <th>19</th>\n",
              "      <td>19</td>\n",
              "      <td>19</td>\n",
              "      <td>18</td>\n",
              "      <td>You know, you’re really really really really c...</td>\n",
              "      <td>.  People are complex and understanding them r...</td>\n",
              "      <td>that it is often difficult to predict the out...</td>\n",
              "      <td>\\nUnderstanding people is a complex task that ...</td>\n",
              "      <td>\\n\\nInterpreting People and Health Domains</td>\n",
              "    </tr>\n",
              "    <tr>\n",
              "      <th>20</th>\n",
              "      <td>20</td>\n",
              "      <td>20</td>\n",
              "      <td>19</td>\n",
              "      <td>Well, after all that. And, so, some people wil...</td>\n",
              "      <td>.  Data indicates that there are two ways to a...</td>\n",
              "      <td>\\nTriple 1: (Situation, has two approaches, on...</td>\n",
              "      <td>\\nIt is important to be aware of the biologica...</td>\n",
              "      <td>\\n\\nRefining Solutions.</td>\n",
              "    </tr>\n",
              "    <tr>\n",
              "      <th>21</th>\n",
              "      <td>21</td>\n",
              "      <td>21</td>\n",
              "      <td>20</td>\n",
              "      <td>You can even use your body as a representation...</td>\n",
              "      <td>. We can use our body to represent ourselves, ...</td>\n",
              "      <td>meaning that our behavior should match our va...</td>\n",
              "      <td>\\nWhen faced with difficult situations, such a...</td>\n",
              "      <td>\\n\\nRelationship Breakdowns</td>\n",
              "    </tr>\n",
              "    <tr>\n",
              "      <th>22</th>\n",
              "      <td>22</td>\n",
              "      <td>22</td>\n",
              "      <td>21</td>\n",
              "      <td>And there’s no way you can do that without bri...</td>\n",
              "      <td>. Bringing value judgments into the equation i...</td>\n",
              "      <td>the process of learning and transformation is...</td>\n",
              "      <td>\\nIt is important to make value judgments, con...</td>\n",
              "      <td>\\n\\nLearning and Growth.</td>\n",
              "    </tr>\n",
              "  </tbody>\n",
              "</table>\n",
              "</div>\n",
              "      <button class=\"colab-df-convert\" onclick=\"convertToInteractive('df-80a10490-168a-4b19-a607-0163b6ca499f')\"\n",
              "              title=\"Convert this dataframe to an interactive table.\"\n",
              "              style=\"display:none;\">\n",
              "        \n",
              "  <svg xmlns=\"http://www.w3.org/2000/svg\" height=\"24px\"viewBox=\"0 0 24 24\"\n",
              "       width=\"24px\">\n",
              "    <path d=\"M0 0h24v24H0V0z\" fill=\"none\"/>\n",
              "    <path d=\"M18.56 5.44l.94 2.06.94-2.06 2.06-.94-2.06-.94-.94-2.06-.94 2.06-2.06.94zm-11 1L8.5 8.5l.94-2.06 2.06-.94-2.06-.94L8.5 2.5l-.94 2.06-2.06.94zm10 10l.94 2.06.94-2.06 2.06-.94-2.06-.94-.94-2.06-.94 2.06-2.06.94z\"/><path d=\"M17.41 7.96l-1.37-1.37c-.4-.4-.92-.59-1.43-.59-.52 0-1.04.2-1.43.59L10.3 9.45l-7.72 7.72c-.78.78-.78 2.05 0 2.83L4 21.41c.39.39.9.59 1.41.59.51 0 1.02-.2 1.41-.59l7.78-7.78 2.81-2.81c.8-.78.8-2.07 0-2.86zM5.41 20L4 18.59l7.72-7.72 1.47 1.35L5.41 20z\"/>\n",
              "  </svg>\n",
              "      </button>\n",
              "      \n",
              "  <style>\n",
              "    .colab-df-container {\n",
              "      display:flex;\n",
              "      flex-wrap:wrap;\n",
              "      gap: 12px;\n",
              "    }\n",
              "\n",
              "    .colab-df-convert {\n",
              "      background-color: #E8F0FE;\n",
              "      border: none;\n",
              "      border-radius: 50%;\n",
              "      cursor: pointer;\n",
              "      display: none;\n",
              "      fill: #1967D2;\n",
              "      height: 32px;\n",
              "      padding: 0 0 0 0;\n",
              "      width: 32px;\n",
              "    }\n",
              "\n",
              "    .colab-df-convert:hover {\n",
              "      background-color: #E2EBFA;\n",
              "      box-shadow: 0px 1px 2px rgba(60, 64, 67, 0.3), 0px 1px 3px 1px rgba(60, 64, 67, 0.15);\n",
              "      fill: #174EA6;\n",
              "    }\n",
              "\n",
              "    [theme=dark] .colab-df-convert {\n",
              "      background-color: #3B4455;\n",
              "      fill: #D2E3FC;\n",
              "    }\n",
              "\n",
              "    [theme=dark] .colab-df-convert:hover {\n",
              "      background-color: #434B5C;\n",
              "      box-shadow: 0px 1px 3px 1px rgba(0, 0, 0, 0.15);\n",
              "      filter: drop-shadow(0px 1px 2px rgba(0, 0, 0, 0.3));\n",
              "      fill: #FFFFFF;\n",
              "    }\n",
              "  </style>\n",
              "\n",
              "      <script>\n",
              "        const buttonEl =\n",
              "          document.querySelector('#df-80a10490-168a-4b19-a607-0163b6ca499f button.colab-df-convert');\n",
              "        buttonEl.style.display =\n",
              "          google.colab.kernel.accessAllowed ? 'block' : 'none';\n",
              "\n",
              "        async function convertToInteractive(key) {\n",
              "          const element = document.querySelector('#df-80a10490-168a-4b19-a607-0163b6ca499f');\n",
              "          const dataTable =\n",
              "            await google.colab.kernel.invokeFunction('convertToInteractive',\n",
              "                                                     [key], {});\n",
              "          if (!dataTable) return;\n",
              "\n",
              "          const docLinkHtml = 'Like what you see? Visit the ' +\n",
              "            '<a target=\"_blank\" href=https://colab.research.google.com/notebooks/data_table.ipynb>data table notebook</a>'\n",
              "            + ' to learn more about interactive tables.';\n",
              "          element.innerHTML = '';\n",
              "          dataTable['output_type'] = 'display_data';\n",
              "          await google.colab.output.renderOutput(dataTable, element);\n",
              "          const docLink = document.createElement('div');\n",
              "          docLink.innerHTML = docLinkHtml;\n",
              "          element.appendChild(docLink);\n",
              "        }\n",
              "      </script>\n",
              "    </div>\n",
              "  </div>\n",
              "  "
            ],
            "text/plain": [
              "    Unnamed: 0.1  Unnamed: 0  cluster_ids  \\\n",
              "0              0           0           -1   \n",
              "1              1           1            0   \n",
              "2              2           2            1   \n",
              "3              3           3            2   \n",
              "4              4           4            3   \n",
              "5              5           5            4   \n",
              "6              6           6            5   \n",
              "7              7           7            6   \n",
              "8              8           8            7   \n",
              "9              9           9            8   \n",
              "10            10          10            9   \n",
              "11            11          11           10   \n",
              "12            12          12           11   \n",
              "13            13          13           12   \n",
              "14            14          14           13   \n",
              "15            15          15           14   \n",
              "16            16          16           15   \n",
              "17            17          17           16   \n",
              "18            18          18           17   \n",
              "19            19          19           18   \n",
              "20            20          20           19   \n",
              "21            21          21           20   \n",
              "22            22          22           21   \n",
              "\n",
              "                                                 text  \\\n",
              "0   So, there’s a website—I don’t really like Blac...   \n",
              "1   So, what I’m going to do today—how I’m going t...   \n",
              "2   So the first issue is that there’s a lot of re...   \n",
              "3   But I think we might as well jump right into t...   \n",
              "4   So when we’re first born—we’re very primitive ...   \n",
              "5   And so in the mirror test what you essentially...   \n",
              "6   Now, dolphins seem to be able to manage that, ...   \n",
              "7   Now, part of the reason for that is that Nietz...   \n",
              "8   It brings in elements of cultural history, ele...   \n",
              "9   Most of the brain is structured with the olfac...   \n",
              "10  But they like things cut and dried and laid ou...   \n",
              "11  So, welcome to Psychology 230. Nice to see you...   \n",
              "12  And useful, like there’s a difference between ...   \n",
              "13  and then you say “Well this is what it’s like....   \n",
              "14  You don’t really have to learn what anger mean...   \n",
              "15  You think in terms of the presence of positive...   \n",
              "16  So what I would say is that, you know, Freud’s...   \n",
              "17  You know and that requires a fair bit of intel...   \n",
              "18  So, personality is a somewhat peculiar field o...   \n",
              "19  You know, you’re really really really really c...   \n",
              "20  Well, after all that. And, so, some people wil...   \n",
              "21  You can even use your body as a representation...   \n",
              "22  And there’s no way you can do that without bri...   \n",
              "\n",
              "                                              summary  \\\n",
              "0                                     [NOISE_CLUSTER]   \n",
              "1     Jordan Peterson's course is wide-ranging and...   \n",
              "2     The speaker suggests reading novels, literat...   \n",
              "3     This article discusses rituals, stories, and...   \n",
              "4   .  Babies are born with limited control of the...   \n",
              "5   .  The Mirror Test is used to assess the socia...   \n",
              "6     Dolphins, crows, ravens, whales, and humans ...   \n",
              "7     Nietzsche argued that philosophers are often...   \n",
              "8   .  This discussion focuses on the elements of ...   \n",
              "9   . Humans have a unique brain structure with th...   \n",
              "10  .  Phenomenologists are a tricky bunch who are...   \n",
              "11  .  This is a welcome to Psychology 230. The in...   \n",
              "12  .  This text discusses the difference between ...   \n",
              "13  .  This text discusses the importance of takin...   \n",
              "14    It is not necessary to learn what anger mean...   \n",
              "15    Being healthy mentally and physically is key...   \n",
              "16  .  Freud is often compared to a microscope and...   \n",
              "17    This year, grades will be curved and 7.5% of...   \n",
              "18  .  Personality is a complex field of study in ...   \n",
              "19  .  People are complex and understanding them r...   \n",
              "20  .  Data indicates that there are two ways to a...   \n",
              "21  . We can use our body to represent ourselves, ...   \n",
              "22  . Bringing value judgments into the equation i...   \n",
              "\n",
              "                                              triples  \\\n",
              "0                                             [NOISE]   \n",
              "1   \\n\\nTriple 1: Subject: Jordan Peterson's Cours...   \n",
              "2    you want to understand the world, you should ...   \n",
              "3    Beauty, have been used to explain the human c...   \n",
              "4    up objects and put them in their mouths.\\nTri...   \n",
              "5    to learn about the world and to develop their...   \n",
              "6    have the unique ability to use language, whic...   \n",
              "7    need to create new systems of meaning that co...   \n",
              "8   \\n\\nTriple 1: Human Personality - Shaped By - ...   \n",
              "9    allowing for the highest resolution of vision...   \n",
              "10   a lot of power.\\n\\nTriple: \\nSubject: Phenome...   \n",
              "11  \\n\\n(IQ, discussed, Psychology 230)\\n(David Hu...   \n",
              "12   implications of seemingly irrational decision...   \n",
              "13  \\n\\nTaking turns while talking: (Subject, Pred...   \n",
              "14   anger they feel.\\n\\nTriple: (Anger, Represent...   \n",
              "15   importance of self-consciousness in understan...   \n",
              "16  .\\nTriple 1: Freud: compared_to: microscope\\nT...   \n",
              "17  , it is possible to increase the predictive va...   \n",
              "18  .\\n\\nTriple: (Personality, encompasses, subdis...   \n",
              "19   that it is often difficult to predict the out...   \n",
              "20  \\nTriple 1: (Situation, has two approaches, on...   \n",
              "21   meaning that our behavior should match our va...   \n",
              "22   the process of learning and transformation is...   \n",
              "\n",
              "                                eli5_sentence_summary  \\\n",
              "0                                             [NOISE]   \n",
              "1   \\nJordan Peterson's Course is a wide-ranging p...   \n",
              "2   \\nReading books, watching movies, and TV shows...   \n",
              "3   \\nThis article examines how stories and ritual...   \n",
              "4   \\nBabies are born prematurely with large heads...   \n",
              "5   \\nPiaget's theories suggest that children come...   \n",
              "6   \\nHumans have the unique ability to recognize ...   \n",
              "7   \\nNietzsche and Dostoevsky argued that the sys...   \n",
              "8   \\nPersonality is a complex phenomenon, shaped ...   \n",
              "9   \\nWilder Penfield was a neurosurgeon who studi...   \n",
              "10  \\nPhenomenologists are a complex group of peop...   \n",
              "11  \\n\\nPsychology 230 is a course that covers top...   \n",
              "12  \\nThis text explores the need to identify solu...   \n",
              "13  \\n\\nThis text emphasizes the importance of con...   \n",
              "14  \\nIt is important to recognize and understand ...   \n",
              "15  \\nBeing self-conscious involves recognizing ou...   \n",
              "16  \\nFreud and Jung are often compared to a micro...   \n",
              "17  \\nThis year, grades will be curved and 7.5% of...   \n",
              "18  \\nPersonality psychology is a complex field of...   \n",
              "19  \\nUnderstanding people is a complex task that ...   \n",
              "20  \\nIt is important to be aware of the biologica...   \n",
              "21  \\nWhen faced with difficult situations, such a...   \n",
              "22  \\nIt is important to make value judgments, con...   \n",
              "\n",
              "                                        titles  \n",
              "0                                      [NOISE]  \n",
              "1          \\n\\nJordan Peterson Course Overview  \n",
              "2         \\n\\nUnderstanding Life Through Media  \n",
              "3   \\n\\n\"Story and Rituals: Shaping the World\"  \n",
              "4            \\n\\nPremature Babies' Development  \n",
              "5              \\n\\nPiaget's Theories and Games  \n",
              "6                         \\n\\nHumans and Fire.  \n",
              "7                  \\n\\n\"Inadequacy of Meaning\"  \n",
              "8                  \\n\\nPersonality Development  \n",
              "9               \\n\\nWilder Penfield's Research  \n",
              "10         \\n\\nPhenomenologists: Complex Group  \n",
              "11                     \\n\\nPsychology 230 Exam  \n",
              "12                \\n\\nFinding Meaning in Life.  \n",
              "13     \\n\\nConsidering Context and Perspective  \n",
              "14              \\n\\nUnderstanding Anger Causes  \n",
              "15          \\n\\nSelf-Consciousness Exploration  \n",
              "16             \\n\\nFreud and Jung: Comparisons  \n",
              "17      \\n\\nPersonality Self-Analysis Programs  \n",
              "18                 \\n\\nPersonality Psychology.  \n",
              "19  \\n\\nInterpreting People and Health Domains  \n",
              "20                     \\n\\nRefining Solutions.  \n",
              "21                 \\n\\nRelationship Breakdowns  \n",
              "22                    \\n\\nLearning and Growth.  "
            ]
          },
          "execution_count": 199,
          "metadata": {},
          "output_type": "execute_result"
        }
      ],
      "source": [
        "df"
      ]
    },
    {
      "cell_type": "code",
      "execution_count": null,
      "metadata": {
        "id": "_18OI-j8REbx"
      },
      "outputs": [],
      "source": []
    }
  ],
  "metadata": {
    "colab": {
      "provenance": []
    },
    "kernelspec": {
      "display_name": "Python 3",
      "name": "python3"
    },
    "language_info": {
      "name": "python"
    }
  },
  "nbformat": 4,
  "nbformat_minor": 0
}
