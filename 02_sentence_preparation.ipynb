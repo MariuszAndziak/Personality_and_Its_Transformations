{
 "cells": [
  {
   "attachments": {},
   "cell_type": "markdown",
   "metadata": {},
   "source": [
    "### Personality and its Transformations ###"
   ]
  },
  {
   "cell_type": "markdown",
   "metadata": {},
   "source": [
    "An analysis of prof. Jordan Peterson's collection of lectures from University of Toronto personality course."
   ]
  },
  {
   "attachments": {},
   "cell_type": "markdown",
   "metadata": {},
   "source": [
    "|    More about prof. Peterson at https://www.jordanbpeterson.com/"
   ]
  },
  {
   "cell_type": "markdown",
   "metadata": {},
   "source": [
    "---"
   ]
  },
  {
   "cell_type": "code",
   "execution_count": 312,
   "metadata": {},
   "outputs": [],
   "source": [
    "# main imports\n",
    "import numpy as np\n",
    "import pandas as pd\n",
    "import re\n",
    "\n",
    "import spacy\n",
    "nlp = spacy.load('en_core_web_sm')\n",
    "\n",
    "from nnsplit import NNSplit\n",
    "\n",
    "from nltk.tokenize import sent_tokenize\n",
    "from sentence_splitter import SentenceSplitter, split_text_into_sentences\n",
    "from helper import split_into_sentences\n",
    "\n",
    "from constants import *\n",
    "\n",
    "import matplotlib.pyplot as plt"
   ]
  },
  {
   "cell_type": "markdown",
   "metadata": {},
   "source": [
    "<div class=\"tomcolor8\">  \n",
    "<h4 style=\"background:#135e96; color:white ;font-size:15px;line-height:1em; text-align:left; padding: 20px\">\n",
    "      Version check</h4> \n",
    "</div>"
   ]
  },
  {
   "cell_type": "code",
   "execution_count": 304,
   "metadata": {},
   "outputs": [
    {
     "name": "stdout",
     "output_type": "stream",
     "text": [
      "Python 3.7.5\n",
      "numpy...............1.20.2\n",
      "pandas..............1.2.4\n"
     ]
    }
   ],
   "source": [
    "def show_version(module_object: object, n: int = 20):\n",
    "    \"\"\"Output versions of a given Python library\n",
    "\n",
    "    Args:\n",
    "        module_object (object): library \n",
    "        n (int, optional): Number of chars between the first letter\n",
    "        of the library's name the the first digit of the version number.\n",
    "        Defaults to 20.\n",
    "\n",
    "    \"\"\"\n",
    "    module_name = getattr(module_object, '__name__')\n",
    "    module_ver = getattr(module_object, '__version__')\n",
    "    \n",
    "    # dots between the name of the library and it's version number\n",
    "    dots = '.' * (n - len(module_name))\n",
    "    \n",
    "    print(f'{module_name}{dots}{module_ver}')\n",
    "\n",
    "\n",
    "!python --version\n",
    "module_list = [np, pd]\n",
    "for module in module_list:\n",
    "    show_version(module)"
   ]
  },
  {
   "cell_type": "markdown",
   "metadata": {},
   "source": [
    "<div class=\"tomcolor8\">  \n",
    "<h4 style=\"background:#135e96; color:white ;font-size:15px;line-height:1em; text-align:left; padding: 20px\">\n",
    "      Prepare the sentences</h4> \n",
    "</div>"
   ]
  },
  {
   "cell_type": "markdown",
   "metadata": {},
   "source": [
    "### Load the data ###"
   ]
  },
  {
   "cell_type": "code",
   "execution_count": 4,
   "metadata": {},
   "outputs": [],
   "source": [
    "with open(f'{OUTPUT_FOLDER}\\{CAPTIONS_FILE_NAME}', 'r', encoding='utf-8') as f:\n",
    "    data = f.read()\n",
    "data = data.replace('\\\\', '')"
   ]
  },
  {
   "cell_type": "code",
   "execution_count": 5,
   "metadata": {},
   "outputs": [
    {
     "data": {
      "text/plain": [
       "str"
      ]
     },
     "execution_count": 5,
     "metadata": {},
     "output_type": "execute_result"
    }
   ],
   "source": [
    "type(data)"
   ]
  },
  {
   "cell_type": "markdown",
   "metadata": {},
   "source": [
    "### Check different sentence splitting techniques ###"
   ]
  },
  {
   "cell_type": "markdown",
   "metadata": {},
   "source": [
    "***sentence-splitter 1.4*** is a text to sentence splitter that uses heuristic algorithm made by Philipp Koehn and Josh Schroeder   \n",
    "Repository available at https://github.com/mediacloud/sentence-splitter"
   ]
  },
  {
   "cell_type": "code",
   "execution_count": 6,
   "metadata": {},
   "outputs": [],
   "source": [
    "splitter = SentenceSplitter(language='en')\n",
    "output01 = splitter.split(text = data)"
   ]
  },
  {
   "cell_type": "code",
   "execution_count": 8,
   "metadata": {},
   "outputs": [
    {
     "data": {
      "text/plain": [
       "['Well, after all that.',\n",
       " 'So, welcome to Psychology 230.',\n",
       " 'Nice to see you all here.',\n",
       " 'So, what I’m going to do today—how I’m going to start—is I’m going to give you an overview of the content of the course and then I’ll give you an overview of the class requirements right at the end.',\n",
       " 'But I think we might as well jump right into the content to begin with.']"
      ]
     },
     "execution_count": 8,
     "metadata": {},
     "output_type": "execute_result"
    }
   ],
   "source": [
    "output01[:5]"
   ]
  },
  {
   "cell_type": "markdown",
   "metadata": {},
   "source": [
    "***sent_tokenize*** returns a sentence-tokenized copy of text, using NLTK’s recommended sentence tokenizer (currently PunktSentenceTokenizer)"
   ]
  },
  {
   "cell_type": "code",
   "execution_count": 9,
   "metadata": {},
   "outputs": [],
   "source": [
    "output02 = sent_tokenize(data)"
   ]
  },
  {
   "cell_type": "code",
   "execution_count": 10,
   "metadata": {},
   "outputs": [
    {
     "data": {
      "text/plain": [
       "['Well, after all that.',\n",
       " 'So, welcome to Psychology 230.',\n",
       " 'Nice to see you all here.',\n",
       " 'So, what I’m going to do today—how I’m going to start—is I’m going to give you an overview of the content of the course and then I’ll give you an overview of the class requirements right at the end.',\n",
       " 'But I think we might as well jump right into the content to begin with.']"
      ]
     },
     "execution_count": 10,
     "metadata": {},
     "output_type": "execute_result"
    }
   ],
   "source": [
    "output02[:5]"
   ]
  },
  {
   "cell_type": "markdown",
   "metadata": {},
   "source": [
    "***split_into_sentences*** uses regex to split sentences. The function in described in helper file"
   ]
  },
  {
   "cell_type": "code",
   "execution_count": 12,
   "metadata": {},
   "outputs": [],
   "source": [
    "output03 = split_into_sentences(data)"
   ]
  },
  {
   "cell_type": "code",
   "execution_count": 29,
   "metadata": {},
   "outputs": [
    {
     "data": {
      "text/plain": [
       "['Well, after all that.',\n",
       " 'So, welcome to Psychology 230.',\n",
       " 'Nice to see you all here.',\n",
       " 'So, what I’m going to do today—how I’m going to start—is I’m going to give you an overview of the content of the course and then I’ll give you an overview of the class requirements right at the end.',\n",
       " 'But I think we might as well jump right into the content to begin with.']"
      ]
     },
     "execution_count": 29,
     "metadata": {},
     "output_type": "execute_result"
    }
   ],
   "source": [
    "output03[:5]"
   ]
  },
  {
   "cell_type": "code",
   "execution_count": 30,
   "metadata": {},
   "outputs": [
    {
     "name": "stdout",
     "output_type": "stream",
     "text": [
      "Number of sentences produced by different sentence splitting methods:\n",
      "5616 | 5421 | 5669\n"
     ]
    }
   ],
   "source": [
    "print('Number of sentences produced by different sentence splitting methods:')\n",
    "print(len(output01), '|', len(output02), '|', len(output03))"
   ]
  },
  {
   "cell_type": "markdown",
   "metadata": {},
   "source": [
    "***Spacy*** using Spacy to split sentences"
   ]
  },
  {
   "cell_type": "code",
   "execution_count": 240,
   "metadata": {},
   "outputs": [],
   "source": [
    "doc = nlp(data)\n",
    "output04 =  [str(sent) for sent in doc.sents]"
   ]
  },
  {
   "cell_type": "code",
   "execution_count": 250,
   "metadata": {},
   "outputs": [
    {
     "data": {
      "text/plain": [
       "['Well, after all that.',\n",
       " 'So, welcome to Psychology 230.',\n",
       " 'Nice to see you all here.',\n",
       " 'So, what I’m going to do today—how I’m going to start—is I’m going to give you an overview of the content of the course',\n",
       " 'and then I’ll give you an overview of the class requirements right at the end.']"
      ]
     },
     "execution_count": 250,
     "metadata": {},
     "output_type": "execute_result"
    }
   ],
   "source": [
    "output04[:5]"
   ]
  },
  {
   "cell_type": "markdown",
   "metadata": {},
   "source": [
    "### Visualizing length of sentences ###"
   ]
  },
  {
   "cell_type": "code",
   "execution_count": 152,
   "metadata": {},
   "outputs": [],
   "source": [
    "def visualize_sentences(list_of_sentences: list, percentile: int, \\\n",
    "  output_name: str, bins: int = 50, top: int = 5):\n",
    "  \"\"\"Print how many words are there in top longest sentences and output a \n",
    "  histogram showing how those sentences are distributed\n",
    "\n",
    "  Args:\n",
    "      list_of_sentences (list): sentences provided in a list form\n",
    "      percentile (int): percentile value used for numpy's percentile function\n",
    "      output_name (str): custom name of the sentences list - implemented to \n",
    "      distinguish between many different cases with different list sentences\n",
    "      bins (int, optional): number of bins for pyplot. Defaults to 50.\n",
    "      top (int, optional): number of sentences to show. Defaults to 5.\n",
    "  \"\"\"\n",
    "  df = pd.DataFrame(list_of_sentences, columns = ['sentence'])\n",
    "  df['length'] = df['sentence'].str.split().map(lambda x: len(x))\n",
    "  \n",
    "  if percentile == None:\n",
    "    plt.hist(df['length'], bins = 10);\n",
    "  else:\n",
    "    df[df.length < np.percentile(df.length, 99)]['length'].hist(bins = bins)\n",
    "  \n",
    "  plt.title(f'Distribution of sentencens lengths using \"{output_name}\" with percentile {percentile}');\n",
    "  print(f'Number of words in {top} longest sentences (no percentiles used)')\n",
    "  print(df['length'].sort_values(ascending = False)[:top])\n",
    "  print(f'Number of sentences in {output_name}: {len(list_of_sentences)}')"
   ]
  },
  {
   "cell_type": "code",
   "execution_count": 153,
   "metadata": {},
   "outputs": [
    {
     "name": "stdout",
     "output_type": "stream",
     "text": [
      "Number of words in 10 longest sentences (no percentiles used)\n",
      "1085    13576\n",
      "1084      445\n",
      "1083      358\n",
      "3506      205\n",
      "3098      194\n",
      "3417      176\n",
      "3729      174\n",
      "3220      162\n",
      "3426      160\n",
      "3466      158\n",
      "Name: length, dtype: int64\n",
      "Number of sentences in output01: 5616\n"
     ]
    },
    {
     "data": {
      "image/png": "[encoded data removed]",
      "text/plain": [
       "<Figure size 432x288 with 1 Axes>"
      ]
     },
     "metadata": {
      "needs_background": "light"
     },
     "output_type": "display_data"
    }
   ],
   "source": [
    "visualize_sentences(output01, percentile = 99, output_name ='output01', bins = 50, top = 10)"
   ]
  },
  {
   "cell_type": "code",
   "execution_count": 154,
   "metadata": {},
   "outputs": [
    {
     "name": "stdout",
     "output_type": "stream",
     "text": [
      "Number of words in 10 longest sentences (no percentiles used)\n",
      "998     13658\n",
      "995       360\n",
      "997       236\n",
      "3034      211\n",
      "3307      205\n",
      "3229      197\n",
      "2915      194\n",
      "3221      176\n",
      "3520      174\n",
      "3268      158\n",
      "Name: length, dtype: int64\n",
      "Number of sentences in output02: 5421\n"
     ]
    },
    {
     "data": {
      "image/png": "[encoded data removed]",
      "text/plain": [
       "<Figure size 432x288 with 1 Axes>"
      ]
     },
     "metadata": {
      "needs_background": "light"
     },
     "output_type": "display_data"
    }
   ],
   "source": [
    "visualize_sentences(output02, percentile = 99, output_name ='output02', bins = 50, top = 10)"
   ]
  },
  {
   "cell_type": "code",
   "execution_count": 155,
   "metadata": {},
   "outputs": [
    {
     "name": "stdout",
     "output_type": "stream",
     "text": [
      "Number of words in 10 longest sentences (no percentiles used)\n",
      "1094    13257\n",
      "1091      360\n",
      "1097      300\n",
      "1093      236\n",
      "3532      205\n",
      "3122      194\n",
      "3443      176\n",
      "3756      174\n",
      "3245      162\n",
      "3452      161\n",
      "Name: length, dtype: int64\n",
      "Number of sentences in output03: 5669\n"
     ]
    },
    {
     "data": {
      "image/png": "[encoded data removed]",
      "text/plain": [
       "<Figure size 432x288 with 1 Axes>"
      ]
     },
     "metadata": {
      "needs_background": "light"
     },
     "output_type": "display_data"
    }
   ],
   "source": [
    "visualize_sentences(output03, percentile = 99, output_name ='output03', bins = 50, top = 10)"
   ]
  },
  {
   "cell_type": "code",
   "execution_count": 251,
   "metadata": {},
   "outputs": [
    {
     "name": "stdout",
     "output_type": "stream",
     "text": [
      "Number of words in 10 longest sentences (no percentiles used)\n",
      "1174    541\n",
      "1157    315\n",
      "1149    294\n",
      "1301    287\n",
      "1172    282\n",
      "1241    248\n",
      "1294    237\n",
      "1209    230\n",
      "1312    207\n",
      "1324    206\n",
      "Name: length, dtype: int64\n",
      "Number of sentences in output04: 6111\n"
     ]
    },
    {
     "data": {
      "image/png": "[encoded data removed]",
      "text/plain": [
       "<Figure size 432x288 with 1 Axes>"
      ]
     },
     "metadata": {
      "needs_background": "light"
     },
     "output_type": "display_data"
    }
   ],
   "source": [
    "visualize_sentences(output04, percentile = 99, output_name ='output04', bins = 50, top = 10)"
   ]
  },
  {
   "cell_type": "markdown",
   "metadata": {},
   "source": [
    "### Analyzing the longest sentences ###"
   ]
  },
  {
   "cell_type": "markdown",
   "metadata": {},
   "source": [
    "The longest sentences in each case are outliers and should be addressed properly."
   ]
  },
  {
   "cell_type": "code",
   "execution_count": 259,
   "metadata": {},
   "outputs": [
    {
     "data": {
      "text/plain": [
       "\"okay so we're going to talk about piaget today and as i believe i mentioned to you before piaget was perhaps the 20 20th century's foremost developmental psychologist he didn't really regard himself as a psychologist however in fact a lot of the people who've been great psychologists have come in from outside the field it's often engineers for example engineers have helped us establish most of our statistics anyways piaget i suppose would have regarded himself more as a biologist he called it called himself a genetic epistemologist and by genetic he didn't mean the genes that organize your cells and spin you up out of nothing he meant beginnings as in genesis and and then an epistemologist was someone who was interested in how structures of knowledge emerge and how they're constituted so he actually thought of himself as a biological philosopher now you know one of the things that's kind of sad about learning about great theories is that you hardly ever learn about how peculiar the peo\""
      ]
     },
     "execution_count": 259,
     "metadata": {},
     "output_type": "execute_result"
    }
   ],
   "source": [
    "output01[1085][:1000]"
   ]
  },
  {
   "cell_type": "code",
   "execution_count": 260,
   "metadata": {},
   "outputs": [
    {
     "data": {
      "text/plain": [
       "'\", and you say \"fine\" i mean, maybe it\\'s the lowest level, lowest resolution highest abstract srory \"my day was fine\" It\\'s pretty boring story, it\\'s better then terrible, I suppose it\\'s not interesting, it\\'s not detailed but person gets the notion that things went according to plan or, more specificly, that things unfolded the way you wanted them to\\nokay so we\\'re going to talk about piaget today and as i believe i mentioned to you before piaget was perhaps the 20 20th century\\'s foremost developmental psychologist he didn\\'t really regard himself as a psychologist however in fact a lot of the people who\\'ve been great psychologists have come in from outside the field it\\'s often engineers for example engineers have helped us establish most of our statistics anyways piaget i suppose would have regarded himself more as a biologist he called it called himself a genetic epistemologist and by genetic he didn\\'t mean the genes that organize your cells and spin you up out of nothing he meant begin'"
      ]
     },
     "execution_count": 260,
     "metadata": {},
     "output_type": "execute_result"
    }
   ],
   "source": [
    "output02[998][:1000]"
   ]
  },
  {
   "cell_type": "code",
   "execution_count": 261,
   "metadata": {},
   "outputs": [
    {
     "data": {
      "text/plain": [
       "', and you say \"fine\" i mean, maybe it\\'s the lowest level, lowest resolution highest abstract srory \"my day was fine\" It\\'s pretty boring story, it\\'s better then terrible, I suppose it\\'s not interesting, it\\'s not detailed but person gets the notion that things went according to plan or, more specificly, that things unfolded the way you wanted them to okay so we\\'re going to talk about piaget today and as i believe i mentioned to you before piaget was perhaps the 20 20th century\\'s foremost developmental psychologist he didn\\'t really regard himself as a psychologist however in fact a lot of the people who\\'ve been great psychologists have come in from outside the field it\\'s often engineers for example engineers have helped us establish most of our statistics anyways piaget i suppose would have regarded himself more as a biologist he called it called himself a genetic epistemologist and by genetic he didn\\'t mean the genes that organize your cells and spin you up out of nothing he meant beginn'"
      ]
     },
     "execution_count": 261,
     "metadata": {},
     "output_type": "execute_result"
    }
   ],
   "source": [
    "output03[1094][:1000]"
   ]
  },
  {
   "cell_type": "code",
   "execution_count": 262,
   "metadata": {},
   "outputs": [
    {
     "data": {
      "text/plain": [
       "\"so for example if you want to walk towards the door then you turn your head and you make yourself a mortal of the door and that model has to um be bounded by its relevance to your actions so you know the things that are going to be relevant to you about the door for example might be whether or not it's tall enough for you to walk through or whether or not the doors open or closed so that you can as you're walking towards it you can organize your body so that you can interact with the object as you see fit now you pick your goals and also for all sorts of different reasons and some of those reasons are more fundamental than others so for example fundamental by fundamental i would mean likely what i mean by fundamental is something like evolutionarily ancient you know so the the older the necessity or the older the system that's evolved to to allow you to pursue the necessity the more fundamental it is and there's there's ways of identifying what constitutes the fundamental elements of g\""
      ]
     },
     "execution_count": 262,
     "metadata": {},
     "output_type": "execute_result"
    }
   ],
   "source": [
    "output04[1174][:1000]"
   ]
  },
  {
   "cell_type": "markdown",
   "metadata": {},
   "source": [
    "`output02` and `output03` are good candidates for choosing the right splitting technique. `output03` has more sentences and the lenght of the longest one is about 400 words shorter then i `output02`.But `output04` has the most sentences and the longest sentence is just below 550 words long. Data from `output04` will be used for furher analysis, but it's longest sentence needs to be shorter."
   ]
  },
  {
   "cell_type": "markdown",
   "metadata": {},
   "source": [
    "### Splitting the longest sentence into smaller ones ###"
   ]
  },
  {
   "cell_type": "markdown",
   "metadata": {},
   "source": [
    "**NNSplit** is beeing used to split the longest sentence. This tool uses a neural network to perform sentence boundary detection.  \n",
    "More information about this library is available at https://bminixhofer.github.io/nnsplit/"
   ]
  },
  {
   "cell_type": "code",
   "execution_count": 281,
   "metadata": {},
   "outputs": [],
   "source": [
    "splitter = NNSplit.load('en')\n",
    "\n",
    "LONGEST_SENTENCE_INDEX = 1174\n",
    "splits = splitter.split([output04[LONGEST_SENTENCE_INDEX]])[0]"
   ]
  },
  {
   "cell_type": "code",
   "execution_count": 282,
   "metadata": {},
   "outputs": [],
   "source": [
    "longest_sent_split = [str(splits[n]) for n, split in enumerate(splits)]"
   ]
  },
  {
   "cell_type": "code",
   "execution_count": 283,
   "metadata": {},
   "outputs": [
    {
     "data": {
      "text/plain": [
       "22"
      ]
     },
     "execution_count": 283,
     "metadata": {},
     "output_type": "execute_result"
    }
   ],
   "source": [
    "len(longest_sent_split)"
   ]
  },
  {
   "cell_type": "markdown",
   "metadata": {},
   "source": [
    "The longest sentence from `output04` containig nearly 550 was split into 22 smaller sentences"
   ]
  },
  {
   "cell_type": "markdown",
   "metadata": {},
   "source": [
    "### Final sentence construction ###"
   ]
  },
  {
   "cell_type": "code",
   "execution_count": 286,
   "metadata": {},
   "outputs": [],
   "source": [
    "# put 22 smaller sentences into the position of the longest sentence\n",
    "output04[LONGEST_SENTENCE_INDEX:LONGEST_SENTENCE_INDEX] = longest_sent_split"
   ]
  },
  {
   "cell_type": "code",
   "execution_count": 295,
   "metadata": {},
   "outputs": [],
   "source": [
    "# delete the longest sentence\n",
    "del output04[LONGEST_SENTENCE_INDEX+len(longest_sent_split)]"
   ]
  },
  {
   "cell_type": "code",
   "execution_count": 297,
   "metadata": {},
   "outputs": [
    {
     "name": "stdout",
     "output_type": "stream",
     "text": [
      "Number of words in 10 longest sentences (no percentiles used)\n",
      "1157    315\n",
      "1149    294\n",
      "1322    287\n",
      "1172    282\n",
      "1262    248\n",
      "1315    237\n",
      "1230    230\n",
      "1333    207\n",
      "1345    206\n",
      "1327    205\n",
      "Name: length, dtype: int64\n",
      "Number of sentences in final_sentences: 6132\n"
     ]
    },
    {
     "data": {
      "image/png": "[encoded data removed]",
      "text/plain": [
       "<Figure size 432x288 with 1 Axes>"
      ]
     },
     "metadata": {
      "needs_background": "light"
     },
     "output_type": "display_data"
    }
   ],
   "source": [
    "# final visualisation\n",
    "visualize_sentences(output04, 99, 'final_sentences', 50, 10)"
   ]
  },
  {
   "cell_type": "code",
   "execution_count": 313,
   "metadata": {},
   "outputs": [],
   "source": [
    "# save final captions to a file\n",
    "with open(f'{OUTPUT_FOLDER}\\{FINAL_CAPTIONS_FILE_NAME}', 'w', encoding='utf-8') as f:\n",
    "    for line in output04:\n",
    "        f.write(f\"{line}\\n\")"
   ]
  },
  {
   "cell_type": "markdown",
   "metadata": {},
   "source": [
    "---"
   ]
  }
 ],
 "metadata": {
  "interpreter": {
   "hash": "f5dc7221bd57f443bd21d92d893b3958d3081f94c6c945d5f95188cb4cde5b4f"
  },
  "kernelspec": {
   "display_name": "Python 3.7.5 64-bit",
   "language": "python",
   "name": "python3"
  },
  "language_info": {
   "codemirror_mode": {
    "name": "ipython",
    "version": 3
   },
   "file_extension": ".py",
   "mimetype": "text/x-python",
   "name": "python",
   "nbconvert_exporter": "python",
   "pygments_lexer": "ipython3",
   "version": "3.7.5"
  },
  "orig_nbformat": 4
 },
 "nbformat": 4,
 "nbformat_minor": 2
}
