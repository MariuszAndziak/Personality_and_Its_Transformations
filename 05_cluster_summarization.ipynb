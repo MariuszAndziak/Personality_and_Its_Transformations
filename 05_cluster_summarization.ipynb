{
  "cells": [
    {
      "cell_type": "markdown",
      "metadata": {
        "id": "sAzoFrAfQsN-"
      },
      "source": [
        "### Personality and It's Transformations ###"
      ]
    },
    {
      "cell_type": "markdown",
      "metadata": {
        "id": "kTD_ughYQvcF"
      },
      "source": [
        "An analysis of prof. Jordan Peterson's collection of lectures from University of Toronto personality course."
      ]
    },
    {
      "attachments": {},
      "cell_type": "markdown",
      "metadata": {
        "id": "Pa3-KhT5PUf0"
      },
      "source": [
        "|    More about prof. Peterson at https://www.jordanbpeterson.com/"
      ]
    },
    {
      "cell_type": "markdown",
      "metadata": {
        "id": "8DGopcoXPY6g"
      },
      "source": [
        "---"
      ]
    },
    {
      "cell_type": "code",
      "execution_count": 10,
      "metadata": {
        "id": "jaG_hEEx-6tp"
      },
      "outputs": [],
      "source": [
        "# main imports\n",
        "import os\n",
        "import json\n",
        "\n",
        "import pandas as pd\n",
        "from tqdm import tqdm\n",
        "\n",
        "from langchain import OpenAI, PromptTemplate, LLMChain\n",
        "from langchain.chains.mapreduce import MapReduceChain\n",
        "from langchain.prompts import PromptTemplate\n",
        "from langchain.docstore.document import Document\n",
        "from langchain.llms import OpenAI\n",
        "from langchain.chains.summarize import load_summarize_chain\n",
        "from langchain.text_splitter import CharacterTextSplitter\n",
        "import textwrap\n",
        "\n",
        "from constants import *"
      ]
    },
    {
      "cell_type": "markdown",
      "metadata": {
        "id": "qpCCEIl3hdQZ"
      },
      "source": [
        "<div class=\"tomcolor8\">  \n",
        "<h4 style=\"background:#135e96; color:white ;font-size:15px;line-height:1em; text-align:left; padding: 20px\">\n",
        "      Credentials set-up</h4> \n",
        " </div>"
      ]
    },
    {
      "cell_type": "code",
      "execution_count": 3,
      "metadata": {
        "id": "h9RQXb7E_IJ9"
      },
      "outputs": [],
      "source": [
        "def load_api_keys(credentials_file_name: str = 'credentials.json') -> tuple:\n",
        "    '''Load API keys from file\n",
        "\n",
        "    Arguments:\n",
        "        credentials_file_name: name of file containing credentials\n",
        "\n",
        "    Returns:\n",
        "        A tuple containing OpenAI API Key, Pinecone API key and Pinecone API\n",
        "        environment name\n",
        "\n",
        "    '''\n",
        "    \n",
        "    if os.path.exists(credentials_file_name):\n",
        "\n",
        "      # open credentials file \n",
        "        with open(credentials_file_name) as f:\n",
        "            content = json.load(f)\n",
        "\n",
        "            # load api keys\n",
        "            OPENAI_API_KEY = content['OPENAI_API_KEY']\n",
        "    else:\n",
        "        return f'No file {credentials_file_name} or file corrupted'\n",
        "\n",
        "    return OPENAI_API_KEY\n"
      ]
    },
    {
      "cell_type": "code",
      "execution_count": 4,
      "metadata": {
        "id": "gwaR5cVWALl0"
      },
      "outputs": [],
      "source": [
        "# load the API keys from credential file and setup OPENAI API KEY as an environmental\n",
        "# variable\n",
        "os.environ['OPENAI_API_KEY'] = load_api_keys('credentials.json')"
      ]
    },
    {
      "attachments": {},
      "cell_type": "markdown",
      "metadata": {
        "id": "762k6Vxfd6Os"
      },
      "source": [
        "***LangChain*** is a framework that can develop certain tasks (as sequences called chains) for a language models and utilize their text generation ability to interact with external tools.\n",
        "\n",
        "Documentation for LangChain can be found here: https://python.langchain.com/en/latest/index.html"
      ]
    },
    {
      "cell_type": "markdown",
      "metadata": {
        "id": "RNj2XXUWARUb"
      },
      "source": [
        "<div class=\"tomcolor8\">  \n",
        "<h4 style=\"background:#135e96; color:white ;font-size:15px;line-height:1em; text-align:left; padding: 20px\">\n",
        "      Load the data</h4> \n",
        "</div>"
      ]
    },
    {
      "attachments": {},
      "cell_type": "markdown",
      "metadata": {
        "id": "qhFc3ml8YXHc"
      },
      "source": [
        "The dataset consists of sentences combined into clusters with HDBSCAN in the previous notebook."
      ]
    },
    {
      "cell_type": "code",
      "execution_count": 6,
      "metadata": {
        "id": "NXz2DA8WBAg0"
      },
      "outputs": [],
      "source": [
        "df =  pd.read_csv(f'{OUTPUT_FOLDER}\\{CLUSTERED_TOPICS_DATAFRAME_NAME}.csv')"
      ]
    },
    {
      "cell_type": "code",
      "execution_count": 7,
      "metadata": {
        "colab": {
          "base_uri": "https://localhost:8080/",
          "height": 771
        },
        "id": "DEJmJ8FqDogj",
        "outputId": "dddc2104-9b5e-40a2-d680-ea8fd8dc488d"
      },
      "outputs": [
        {
          "data": {
            "text/html": [
              "\n",
              "  <div id=\"df-1e02fe30-08cb-48bd-a8db-80cac9cda9fc\">\n",
              "    <div class=\"colab-df-container\">\n",
              "      <div>\n",
              "<style scoped>\n",
              "    .dataframe tbody tr th:only-of-type {\n",
              "        vertical-align: middle;\n",
              "    }\n",
              "\n",
              "    .dataframe tbody tr th {\n",
              "        vertical-align: top;\n",
              "    }\n",
              "\n",
              "    .dataframe thead th {\n",
              "        text-align: right;\n",
              "    }\n",
              "</style>\n",
              "<table border=\"1\" class=\"dataframe\">\n",
              "  <thead>\n",
              "    <tr style=\"text-align: right;\">\n",
              "      <th></th>\n",
              "      <th>Unnamed: 0</th>\n",
              "      <th>cluster_ids</th>\n",
              "      <th>text</th>\n",
              "    </tr>\n",
              "  </thead>\n",
              "  <tbody>\n",
              "    <tr>\n",
              "      <th>0</th>\n",
              "      <td>0</td>\n",
              "      <td>-1</td>\n",
              "      <td>So, there’s a website—I don’t really like Blac...</td>\n",
              "    </tr>\n",
              "    <tr>\n",
              "      <th>1</th>\n",
              "      <td>1</td>\n",
              "      <td>0</td>\n",
              "      <td>So, what I’m going to do today—how I’m going t...</td>\n",
              "    </tr>\n",
              "    <tr>\n",
              "      <th>2</th>\n",
              "      <td>2</td>\n",
              "      <td>1</td>\n",
              "      <td>So the first issue is that there’s a lot of re...</td>\n",
              "    </tr>\n",
              "    <tr>\n",
              "      <th>3</th>\n",
              "      <td>3</td>\n",
              "      <td>2</td>\n",
              "      <td>But I think we might as well jump right into t...</td>\n",
              "    </tr>\n",
              "    <tr>\n",
              "      <th>4</th>\n",
              "      <td>4</td>\n",
              "      <td>3</td>\n",
              "      <td>So when we’re first born—we’re very primitive ...</td>\n",
              "    </tr>\n",
              "    <tr>\n",
              "      <th>5</th>\n",
              "      <td>5</td>\n",
              "      <td>4</td>\n",
              "      <td>And so in the mirror test what you essentially...</td>\n",
              "    </tr>\n",
              "    <tr>\n",
              "      <th>6</th>\n",
              "      <td>6</td>\n",
              "      <td>5</td>\n",
              "      <td>Now, dolphins seem to be able to manage that, ...</td>\n",
              "    </tr>\n",
              "    <tr>\n",
              "      <th>7</th>\n",
              "      <td>7</td>\n",
              "      <td>6</td>\n",
              "      <td>Now, part of the reason for that is that Nietz...</td>\n",
              "    </tr>\n",
              "    <tr>\n",
              "      <th>8</th>\n",
              "      <td>8</td>\n",
              "      <td>7</td>\n",
              "      <td>It brings in elements of cultural history, ele...</td>\n",
              "    </tr>\n",
              "    <tr>\n",
              "      <th>9</th>\n",
              "      <td>9</td>\n",
              "      <td>8</td>\n",
              "      <td>Most of the brain is structured with the olfac...</td>\n",
              "    </tr>\n",
              "    <tr>\n",
              "      <th>10</th>\n",
              "      <td>10</td>\n",
              "      <td>9</td>\n",
              "      <td>But they like things cut and dried and laid ou...</td>\n",
              "    </tr>\n",
              "    <tr>\n",
              "      <th>11</th>\n",
              "      <td>11</td>\n",
              "      <td>10</td>\n",
              "      <td>So, welcome to Psychology 230. Nice to see you...</td>\n",
              "    </tr>\n",
              "    <tr>\n",
              "      <th>12</th>\n",
              "      <td>12</td>\n",
              "      <td>11</td>\n",
              "      <td>And useful, like there’s a difference between ...</td>\n",
              "    </tr>\n",
              "    <tr>\n",
              "      <th>13</th>\n",
              "      <td>13</td>\n",
              "      <td>12</td>\n",
              "      <td>and then you say “Well this is what it’s like....</td>\n",
              "    </tr>\n",
              "    <tr>\n",
              "      <th>14</th>\n",
              "      <td>14</td>\n",
              "      <td>13</td>\n",
              "      <td>You don’t really have to learn what anger mean...</td>\n",
              "    </tr>\n",
              "    <tr>\n",
              "      <th>15</th>\n",
              "      <td>15</td>\n",
              "      <td>14</td>\n",
              "      <td>You think in terms of the presence of positive...</td>\n",
              "    </tr>\n",
              "    <tr>\n",
              "      <th>16</th>\n",
              "      <td>16</td>\n",
              "      <td>15</td>\n",
              "      <td>So what I would say is that, you know, Freud’s...</td>\n",
              "    </tr>\n",
              "    <tr>\n",
              "      <th>17</th>\n",
              "      <td>17</td>\n",
              "      <td>16</td>\n",
              "      <td>You know and that requires a fair bit of intel...</td>\n",
              "    </tr>\n",
              "    <tr>\n",
              "      <th>18</th>\n",
              "      <td>18</td>\n",
              "      <td>17</td>\n",
              "      <td>So, personality is a somewhat peculiar field o...</td>\n",
              "    </tr>\n",
              "    <tr>\n",
              "      <th>19</th>\n",
              "      <td>19</td>\n",
              "      <td>18</td>\n",
              "      <td>You know, you’re really really really really c...</td>\n",
              "    </tr>\n",
              "    <tr>\n",
              "      <th>20</th>\n",
              "      <td>20</td>\n",
              "      <td>19</td>\n",
              "      <td>Well, after all that. And, so, some people wil...</td>\n",
              "    </tr>\n",
              "    <tr>\n",
              "      <th>21</th>\n",
              "      <td>21</td>\n",
              "      <td>20</td>\n",
              "      <td>You can even use your body as a representation...</td>\n",
              "    </tr>\n",
              "    <tr>\n",
              "      <th>22</th>\n",
              "      <td>22</td>\n",
              "      <td>21</td>\n",
              "      <td>And there’s no way you can do that without bri...</td>\n",
              "    </tr>\n",
              "  </tbody>\n",
              "</table>\n",
              "</div>\n",
              "      <button class=\"colab-df-convert\" onclick=\"convertToInteractive('df-1e02fe30-08cb-48bd-a8db-80cac9cda9fc')\"\n",
              "              title=\"Convert this dataframe to an interactive table.\"\n",
              "              style=\"display:none;\">\n",
              "        \n",
              "  <svg xmlns=\"http://www.w3.org/2000/svg\" height=\"24px\"viewBox=\"0 0 24 24\"\n",
              "       width=\"24px\">\n",
              "    <path d=\"M0 0h24v24H0V0z\" fill=\"none\"/>\n",
              "    <path d=\"M18.56 5.44l.94 2.06.94-2.06 2.06-.94-2.06-.94-.94-2.06-.94 2.06-2.06.94zm-11 1L8.5 8.5l.94-2.06 2.06-.94-2.06-.94L8.5 2.5l-.94 2.06-2.06.94zm10 10l.94 2.06.94-2.06 2.06-.94-2.06-.94-.94-2.06-.94 2.06-2.06.94z\"/><path d=\"M17.41 7.96l-1.37-1.37c-.4-.4-.92-.59-1.43-.59-.52 0-1.04.2-1.43.59L10.3 9.45l-7.72 7.72c-.78.78-.78 2.05 0 2.83L4 21.41c.39.39.9.59 1.41.59.51 0 1.02-.2 1.41-.59l7.78-7.78 2.81-2.81c.8-.78.8-2.07 0-2.86zM5.41 20L4 18.59l7.72-7.72 1.47 1.35L5.41 20z\"/>\n",
              "  </svg>\n",
              "      </button>\n",
              "      \n",
              "  <style>\n",
              "    .colab-df-container {\n",
              "      display:flex;\n",
              "      flex-wrap:wrap;\n",
              "      gap: 12px;\n",
              "    }\n",
              "\n",
              "    .colab-df-convert {\n",
              "      background-color: #E8F0FE;\n",
              "      border: none;\n",
              "      border-radius: 50%;\n",
              "      cursor: pointer;\n",
              "      display: none;\n",
              "      fill: #1967D2;\n",
              "      height: 32px;\n",
              "      padding: 0 0 0 0;\n",
              "      width: 32px;\n",
              "    }\n",
              "\n",
              "    .colab-df-convert:hover {\n",
              "      background-color: #E2EBFA;\n",
              "      box-shadow: 0px 1px 2px rgba(60, 64, 67, 0.3), 0px 1px 3px 1px rgba(60, 64, 67, 0.15);\n",
              "      fill: #174EA6;\n",
              "    }\n",
              "\n",
              "    [theme=dark] .colab-df-convert {\n",
              "      background-color: #3B4455;\n",
              "      fill: #D2E3FC;\n",
              "    }\n",
              "\n",
              "    [theme=dark] .colab-df-convert:hover {\n",
              "      background-color: #434B5C;\n",
              "      box-shadow: 0px 1px 3px 1px rgba(0, 0, 0, 0.15);\n",
              "      filter: drop-shadow(0px 1px 2px rgba(0, 0, 0, 0.3));\n",
              "      fill: #FFFFFF;\n",
              "    }\n",
              "  </style>\n",
              "\n",
              "      <script>\n",
              "        const buttonEl =\n",
              "          document.querySelector('#df-1e02fe30-08cb-48bd-a8db-80cac9cda9fc button.colab-df-convert');\n",
              "        buttonEl.style.display =\n",
              "          google.colab.kernel.accessAllowed ? 'block' : 'none';\n",
              "\n",
              "        async function convertToInteractive(key) {\n",
              "          const element = document.querySelector('#df-1e02fe30-08cb-48bd-a8db-80cac9cda9fc');\n",
              "          const dataTable =\n",
              "            await google.colab.kernel.invokeFunction('convertToInteractive',\n",
              "                                                     [key], {});\n",
              "          if (!dataTable) return;\n",
              "\n",
              "          const docLinkHtml = 'Like what you see? Visit the ' +\n",
              "            '<a target=\"_blank\" href=https://colab.research.google.com/notebooks/data_table.ipynb>data table notebook</a>'\n",
              "            + ' to learn more about interactive tables.';\n",
              "          element.innerHTML = '';\n",
              "          dataTable['output_type'] = 'display_data';\n",
              "          await google.colab.output.renderOutput(dataTable, element);\n",
              "          const docLink = document.createElement('div');\n",
              "          docLink.innerHTML = docLinkHtml;\n",
              "          element.appendChild(docLink);\n",
              "        }\n",
              "      </script>\n",
              "    </div>\n",
              "  </div>\n",
              "  "
            ],
            "text/plain": [
              "    Unnamed: 0  cluster_ids                                               text\n",
              "0            0           -1  So, there’s a website—I don’t really like Blac...\n",
              "1            1            0  So, what I’m going to do today—how I’m going t...\n",
              "2            2            1  So the first issue is that there’s a lot of re...\n",
              "3            3            2  But I think we might as well jump right into t...\n",
              "4            4            3  So when we’re first born—we’re very primitive ...\n",
              "5            5            4  And so in the mirror test what you essentially...\n",
              "6            6            5  Now, dolphins seem to be able to manage that, ...\n",
              "7            7            6  Now, part of the reason for that is that Nietz...\n",
              "8            8            7  It brings in elements of cultural history, ele...\n",
              "9            9            8  Most of the brain is structured with the olfac...\n",
              "10          10            9  But they like things cut and dried and laid ou...\n",
              "11          11           10  So, welcome to Psychology 230. Nice to see you...\n",
              "12          12           11  And useful, like there’s a difference between ...\n",
              "13          13           12  and then you say “Well this is what it’s like....\n",
              "14          14           13  You don’t really have to learn what anger mean...\n",
              "15          15           14  You think in terms of the presence of positive...\n",
              "16          16           15  So what I would say is that, you know, Freud’s...\n",
              "17          17           16  You know and that requires a fair bit of intel...\n",
              "18          18           17  So, personality is a somewhat peculiar field o...\n",
              "19          19           18  You know, you’re really really really really c...\n",
              "20          20           19  Well, after all that. And, so, some people wil...\n",
              "21          21           20  You can even use your body as a representation...\n",
              "22          22           21  And there’s no way you can do that without bri..."
            ]
          },
          "execution_count": 7,
          "metadata": {},
          "output_type": "execute_result"
        }
      ],
      "source": [
        "df"
      ]
    },
    {
      "attachments": {},
      "cell_type": "markdown",
      "metadata": {},
      "source": [
        "<div class=\"tomcolor8\">  \n",
        "<h4 style=\"background:#135e96; color:white ;font-size:15px;line-height:1em; text-align:left; padding: 20px\">\n",
        "      Define text splitter</h4> "
      ]
    },
    {
      "cell_type": "code",
      "execution_count": 69,
      "metadata": {
        "id": "lzmS23OqS1GF"
      },
      "outputs": [],
      "source": [
        "llm = OpenAI(temperature = 0)\n",
        "text_splitter = CharacterTextSplitter(chunk_size = 1000, chunk_overlap = 0, separator=' ')"
      ]
    },
    {
      "cell_type": "markdown",
      "metadata": {},
      "source": [
        "The GPT3.5 model has a limit of 4096 tokens. When defining the model summary plan we must decrese then number of tokens that can be used inside a single text chunk (1000). The remanining space of 3096 tokens will be occutied for the prompts (main prompt and refine prompt) as well as the summary of the previus step (when using the refine summary method)."
      ]
    },
    {
      "attachments": {},
      "cell_type": "markdown",
      "metadata": {},
      "source": [
        "<div class=\"tomcolor8\">  \n",
        "<h4 style=\"background:#135e96; color:white ;font-size:15px;line-height:1em; text-align:left; padding: 20px\">\n",
        "      Define the prompts</h4> "
      ]
    },
    {
      "cell_type": "code",
      "execution_count": 74,
      "metadata": {
        "id": "YqaCPueG3yyU"
      },
      "outputs": [],
      "source": [
        "# main prompt for summarisation\n",
        "prompt_templete = \"\"\"\n",
        "Write a concise summary of the following extracting only key information:\n",
        "\n",
        "{text}\n",
        "\n",
        "\n",
        "SUMMARY:\n",
        "\"\"\"\n",
        "PROMPT = PromptTemplate(template = prompt_templete, input_variables = ['text'])\n",
        "\n",
        "\n",
        "# refinement prompt - because we will be chooseing chain_type = refine we must construct a prompt\n",
        "# for combining our work that was produced so far\n",
        "refine_template = (\n",
        "    \"Your job is to produce the final summary\\n\"\n",
        "    \"There is an current summary to a certain point: {existing_answer}\\n\"\n",
        "    \"But there is an opportunity, if possible, to refine the existing summary\"\n",
        "    \"with some of the context information below.\\n\"\n",
        "    \"---\\n\"\n",
        "    \"{text}\\n\"\n",
        "    \"---\\n\"\n",
        "    \"Given the new information refine the current summary\"\n",
        "    \"If the context information isn't useful, return the original summary\"\n",
        ") \n",
        "REFINE_PROMPT = PromptTemplate(\n",
        "    input_variables = ['existing_answer', 'text'],\n",
        "    template = refine_template\n",
        ")"
      ]
    },
    {
      "cell_type": "markdown",
      "metadata": {},
      "source": [
        "Variables `text` and `existing_answer` are set variables specific for LangChain architecture. Do not change their names when using the summary model like the one in this notebook."
      ]
    },
    {
      "cell_type": "markdown",
      "metadata": {},
      "source": [
        "<div class=\"tomcolor8\">  \n",
        "<h4 style=\"background:#135e96; color:white ;font-size:15px;line-height:1em; text-align:left; padding: 20px\">\n",
        "      Use defined prompts to run summarization chain</h4> "
      ]
    },
    {
      "cell_type": "markdown",
      "metadata": {},
      "source": [
        "### Explanation"
      ]
    },
    {
      "attachments": {},
      "cell_type": "markdown",
      "metadata": {},
      "source": [
        "One can summarize either with a:\n",
        "\n",
        "a) stuff chain\n",
        "\n",
        "b) map-reduce chain\n",
        "\n",
        "c) refine chain\n",
        "\n",
        "`Stuffing` is the simplest method. All the text is stuffed to the prompt to provide context.\n",
        "\n",
        "[+] single call to the LLM, because all text is provided at once\n",
        "\n",
        "[-] LLMs generally have a context length limit and in case of big documents this will produce an error \n",
        "because the provided context might be bigger then the models limit\n",
        "\n",
        "[-] works only with small texts\n",
        "\n",
        "\n",
        "`Map-reduce` in this method we have two prompts: one for each data chunk and the other for combining the data chunks together.\n",
        "\n",
        "[+] can be parallelized because the calls on each independent data chunks can be made simultaneously\n",
        "\n",
        "[+] works well with big texts\n",
        "\n",
        "[-] can lose some information during the combining step\n",
        "\n",
        "`Refine` in this method the main prompt does the work on the initial chunk, then the output along with the second chunk is treated as input for the text step and so on.\n",
        "\n",
        "[+] can produce more relevant content\n",
        "\n",
        "[-] requires many calls with bigger token lengths to the LLM which can be costly\n",
        "\n",
        "[-] cannot be parallelized because the calls are not independent of one another\n"
      ]
    },
    {
      "cell_type": "code",
      "execution_count": null,
      "metadata": {},
      "outputs": [],
      "source": []
    },
    {
      "attachments": {},
      "cell_type": "markdown",
      "metadata": {},
      "source": [
        "In this example the most suitable method is `refine`. Stuffing won't work due to the texts length. The refine method can be bit costly (comparred to map-reduce) but it provides more insight then map-reduce."
      ]
    },
    {
      "cell_type": "markdown",
      "metadata": {},
      "source": [
        "### Main summarization step"
      ]
    },
    {
      "cell_type": "code",
      "execution_count": 75,
      "metadata": {
        "colab": {
          "base_uri": "https://localhost:8080/"
        },
        "id": "0_wgqKa33ymo",
        "outputId": "aa49dac1-8644-4602-a1a0-41de9cf3cfec"
      },
      "outputs": [
        {
          "name": "stdout",
          "output_type": "stream",
          "text": [
            "Done 1 out of 22\n",
            "Done 2 out of 22\n",
            "Done 3 out of 22\n",
            "Done 4 out of 22\n",
            "Done 5 out of 22\n",
            "Done 6 out of 22\n",
            "Done 7 out of 22\n",
            "Done 8 out of 22\n",
            "Done 9 out of 22\n",
            "Done 10 out of 22\n",
            "Done 11 out of 22\n",
            "Done 12 out of 22\n",
            "Done 13 out of 22\n",
            "Done 14 out of 22\n",
            "Done 15 out of 22\n",
            "Done 16 out of 22\n",
            "Done 17 out of 22\n",
            "Done 18 out of 22\n",
            "Done 19 out of 22\n",
            "Done 20 out of 22\n",
            "Done 21 out of 22\n",
            "Done 22 out of 22\n"
          ]
        }
      ],
      "source": [
        "# the first entry the nosise cluster so we won't be doing any summary of that one for now.\n",
        "summarized_clusters = ['[NOISE_CLUSTER]']\n",
        "\n",
        "# number of all clusters when we exclude the noise cluster (22)\n",
        "N = (df.shape[0] - 1)\n",
        "\n",
        "# summarization chain with type 'refine'\n",
        "chain = load_summarize_chain(llm,\n",
        "                             chain_type = 'refine',\n",
        "                             return_intermediate_steps = True,\n",
        "                             question_prompt = PROMPT,\n",
        "                             refine_prompt = REFINE_PROMPT)\n",
        "\n",
        "# iterate over every text cluster\n",
        "for n, doc in enumerate(df['text'][1:],1):\n",
        "  \n",
        "  # split the text using text_splitter\n",
        "  texts = text_splitter.split_text(doc)\n",
        "  docs = [Document(page_content = t) for t in texts]\n",
        "\n",
        "  # perform a summarization chain\n",
        "  summary = chain({'input_documents': docs}, return_only_outputs=True)\n",
        "  \n",
        "  # wrap it with a text wrapper\n",
        "  summary_wrapper = textwrap.fill(summary['output_text'],\n",
        "                                  width = 100, \n",
        "                                  break_long_words = False,\n",
        "                                  replace_whitespace=False)\n",
        "  summarized_clusters.append(summary_wrapper)\n",
        "  print(f'Done {n} out of {N}')\n"
      ]
    },
    {
      "cell_type": "markdown",
      "metadata": {},
      "source": [
        "<div class=\"tomcolor8\">  \n",
        "<h4 style=\"background:#135e96; color:white ;font-size:15px;line-height:1em; text-align:left; padding: 20px\">\n",
        "      Check summarizations</h4> "
      ]
    },
    {
      "cell_type": "code",
      "execution_count": 87,
      "metadata": {
        "colab": {
          "base_uri": "https://localhost:8080/"
        },
        "id": "nw15nZpl3yaZ",
        "outputId": "cfdfd044-d20e-41fb-8e78-cd38b5bf5a46"
      },
      "outputs": [
        {
          "data": {
            "text/plain": [
              "['[NOISE_CLUSTER]',\n",
              " '\\n\\nJordan Peterson\\'s course is wide-ranging and follows certain principles, such as not teaching\\nanything that isn\\'t relevant. Before taking the course, students should consider if the course is\\nsuitable for them, as there is another personality course being offered at the same time. There is\\nstill a lot of reading involved, but it is mostly original source material from the personality\\ntheorists themselves and empirical papers. This reading is useful and should be taken into account\\nwhen considering taking the course. Additionally, students should be aware that the lectures may not\\nalways reflect the reading material, and that the course may be more suitable for those who enjoy\\nreading literature. The course also goes back to the beginning of human history to understand how\\npeople have understood and represented themselves. It is designed to give students tools to\\nunderstand themselves and others, and to help them transition to university life, including\\nunderstanding the implications of morality being relative and the lack of ultimate meaning. The\\ncourse also requires students to answer twenty different topics with fifteen slots for each topic,\\nand explores the concept of being a \"good person\" and how this can be applied to different areas of\\nlife. It also encourages students to strive for an optimal ratio domain, and to consider the\\nimplications of their decisions, such as the difficulty of putting oneself through university.',\n",
              " '\\n\\nThe speaker suggests reading novels, literature, watching movies, and binging on TV shows to gain\\na better understanding of what is important. They also mention a large number of books that have not\\nbeen translated or published yet, such as \"A Billion Wicked Thoughts\" by the guys who do data\\nanalysis at Google. Additionally, they point out that student essays can be difficult to comprehend,\\nbut if you read the whole thing, there is an idea. Joseph Campbell was a psychologist/mythologist\\nand the Star Wars stories are updated mythology, just like Harry Potter and other stories that\\ncapture people\\'s imagination. They emphasize that the interaction between the reader and the book is\\nunique for each person, and suggest reading books such as \"Human Universals\" by Donald Brown and\\n\"Anxiety\" by Grey to gain a better understanding of how to interpret books. Grey\\'s book, published\\nin 1982, was studied in depth in 2005. They suggest that the meaning of a book is an emergent\\nproperty of the interplay of all of the elements of being, and that readers can follow threads of\\nmeaning through books. They also suggest that meaningful things can be said by branching out a\\nnetwork and following a pathway that is laid out for you in the world. Furthermore, they suggest\\nthat if']"
            ]
          },
          "execution_count": 87,
          "metadata": {},
          "output_type": "execute_result"
        }
      ],
      "source": [
        "summarized_clusters[:3]"
      ]
    },
    {
      "cell_type": "code",
      "execution_count": 77,
      "metadata": {
        "id": "ZE0DNEaE3yCu"
      },
      "outputs": [],
      "source": [
        "df['summary'] = summarized_clusters"
      ]
    },
    {
      "cell_type": "code",
      "execution_count": 89,
      "metadata": {
        "id": "73JN8TY7YJWo"
      },
      "outputs": [],
      "source": [
        "df['summary'] = df['summary'].map(lambda x: x.replace('\\n', ' '))"
      ]
    },
    {
      "cell_type": "markdown",
      "metadata": {},
      "source": [
        "<div class=\"tomcolor8\">  \n",
        "<h4 style=\"background:#135e96; color:white ;font-size:15px;line-height:1em; text-align:left; padding: 20px\">\n",
        "      Export</h4> "
      ]
    },
    {
      "cell_type": "code",
      "execution_count": null,
      "metadata": {},
      "outputs": [],
      "source": [
        "df.to_csv(f'{OUTPUT_FOLDER}\\{CLUSTERED_TOPICS_DATAFRAME_NAME}_with_summaries.csv')"
      ]
    },
    {
      "cell_type": "code",
      "execution_count": 91,
      "metadata": {
        "colab": {
          "base_uri": "https://localhost:8080/",
          "height": 122
        },
        "id": "pXnfrlYPwxvU",
        "outputId": "b75c3fbf-deb9-4120-a5a1-1bc74cc60216"
      },
      "outputs": [
        {
          "data": {
            "application/vnd.google.colaboratory.intrinsic+json": {
              "type": "string"
            },
            "text/plain": [
              "'. We can use our body to represent ourselves, such as when telling a joke. However, when we do something unexpected, such as having an affair in a relationship, it can cause us to question our own model of ourselves and the world, leading to feelings of depression and lack of motivation. In such situations, we may feel fairly anxious and fall apart, not knowing which way is up. But if we can come out the other side, we can be a little smarter and more together than before. Even if someone is annoying us, we should approach them with respect, as they may have something to tell us. In such difficult times, something terrible may have happened to us, but we can still strive to come out the other side a little smarter and more together. We need to come to terms with the terrible thing that has happened, however we can, and put ourselves back together. We should also be mindful of our behavior when faced with difficult situations, such as when our partner is being annoying. We can take a step back and try to understand the situation, being aware that people may not like us as much as we think they do and that they may be trying to manipulate us for their own gain. We should also strive for congruence of experience,'"
            ]
          },
          "execution_count": 91,
          "metadata": {},
          "output_type": "execute_result"
        }
      ],
      "source": [
        "df['summary'][21]"
      ]
    },
    {
      "cell_type": "code",
      "execution_count": 92,
      "metadata": {
        "colab": {
          "base_uri": "https://localhost:8080/",
          "height": 771
        },
        "id": "rIBez7U2wxiL",
        "outputId": "d2593aa2-3e57-49af-8ce5-0fd513fd5cd8"
      },
      "outputs": [
        {
          "data": {
            "text/html": [
              "\n",
              "  <div id=\"df-9731b34f-24bb-4d04-8bbd-6b60bfb41431\">\n",
              "    <div class=\"colab-df-container\">\n",
              "      <div>\n",
              "<style scoped>\n",
              "    .dataframe tbody tr th:only-of-type {\n",
              "        vertical-align: middle;\n",
              "    }\n",
              "\n",
              "    .dataframe tbody tr th {\n",
              "        vertical-align: top;\n",
              "    }\n",
              "\n",
              "    .dataframe thead th {\n",
              "        text-align: right;\n",
              "    }\n",
              "</style>\n",
              "<table border=\"1\" class=\"dataframe\">\n",
              "  <thead>\n",
              "    <tr style=\"text-align: right;\">\n",
              "      <th></th>\n",
              "      <th>Unnamed: 0</th>\n",
              "      <th>cluster_ids</th>\n",
              "      <th>text</th>\n",
              "      <th>summary</th>\n",
              "    </tr>\n",
              "  </thead>\n",
              "  <tbody>\n",
              "    <tr>\n",
              "      <th>0</th>\n",
              "      <td>0</td>\n",
              "      <td>-1</td>\n",
              "      <td>So, there’s a website—I don’t really like Blac...</td>\n",
              "      <td>[NOISE_CLUSTER]</td>\n",
              "    </tr>\n",
              "    <tr>\n",
              "      <th>1</th>\n",
              "      <td>1</td>\n",
              "      <td>0</td>\n",
              "      <td>So, what I’m going to do today—how I’m going t...</td>\n",
              "      <td>Jordan Peterson's course is wide-ranging and...</td>\n",
              "    </tr>\n",
              "    <tr>\n",
              "      <th>2</th>\n",
              "      <td>2</td>\n",
              "      <td>1</td>\n",
              "      <td>So the first issue is that there’s a lot of re...</td>\n",
              "      <td>The speaker suggests reading novels, literat...</td>\n",
              "    </tr>\n",
              "    <tr>\n",
              "      <th>3</th>\n",
              "      <td>3</td>\n",
              "      <td>2</td>\n",
              "      <td>But I think we might as well jump right into t...</td>\n",
              "      <td>This article discusses rituals, stories, and...</td>\n",
              "    </tr>\n",
              "    <tr>\n",
              "      <th>4</th>\n",
              "      <td>4</td>\n",
              "      <td>3</td>\n",
              "      <td>So when we’re first born—we’re very primitive ...</td>\n",
              "      <td>.  Babies are born with limited control of the...</td>\n",
              "    </tr>\n",
              "    <tr>\n",
              "      <th>5</th>\n",
              "      <td>5</td>\n",
              "      <td>4</td>\n",
              "      <td>And so in the mirror test what you essentially...</td>\n",
              "      <td>.  The Mirror Test is used to assess the socia...</td>\n",
              "    </tr>\n",
              "    <tr>\n",
              "      <th>6</th>\n",
              "      <td>6</td>\n",
              "      <td>5</td>\n",
              "      <td>Now, dolphins seem to be able to manage that, ...</td>\n",
              "      <td>Dolphins, crows, ravens, whales, and humans ...</td>\n",
              "    </tr>\n",
              "    <tr>\n",
              "      <th>7</th>\n",
              "      <td>7</td>\n",
              "      <td>6</td>\n",
              "      <td>Now, part of the reason for that is that Nietz...</td>\n",
              "      <td>Nietzsche argued that philosophers are often...</td>\n",
              "    </tr>\n",
              "    <tr>\n",
              "      <th>8</th>\n",
              "      <td>8</td>\n",
              "      <td>7</td>\n",
              "      <td>It brings in elements of cultural history, ele...</td>\n",
              "      <td>.  This discussion focuses on the elements of ...</td>\n",
              "    </tr>\n",
              "    <tr>\n",
              "      <th>9</th>\n",
              "      <td>9</td>\n",
              "      <td>8</td>\n",
              "      <td>Most of the brain is structured with the olfac...</td>\n",
              "      <td>. Humans have a unique brain structure with th...</td>\n",
              "    </tr>\n",
              "    <tr>\n",
              "      <th>10</th>\n",
              "      <td>10</td>\n",
              "      <td>9</td>\n",
              "      <td>But they like things cut and dried and laid ou...</td>\n",
              "      <td>.  Phenomenologists are a tricky bunch who are...</td>\n",
              "    </tr>\n",
              "    <tr>\n",
              "      <th>11</th>\n",
              "      <td>11</td>\n",
              "      <td>10</td>\n",
              "      <td>So, welcome to Psychology 230. Nice to see you...</td>\n",
              "      <td>.  This is a welcome to Psychology 230. The in...</td>\n",
              "    </tr>\n",
              "    <tr>\n",
              "      <th>12</th>\n",
              "      <td>12</td>\n",
              "      <td>11</td>\n",
              "      <td>And useful, like there’s a difference between ...</td>\n",
              "      <td>.  This text discusses the difference between ...</td>\n",
              "    </tr>\n",
              "    <tr>\n",
              "      <th>13</th>\n",
              "      <td>13</td>\n",
              "      <td>12</td>\n",
              "      <td>and then you say “Well this is what it’s like....</td>\n",
              "      <td>.  This text discusses the importance of takin...</td>\n",
              "    </tr>\n",
              "    <tr>\n",
              "      <th>14</th>\n",
              "      <td>14</td>\n",
              "      <td>13</td>\n",
              "      <td>You don’t really have to learn what anger mean...</td>\n",
              "      <td>It is not necessary to learn what anger mean...</td>\n",
              "    </tr>\n",
              "    <tr>\n",
              "      <th>15</th>\n",
              "      <td>15</td>\n",
              "      <td>14</td>\n",
              "      <td>You think in terms of the presence of positive...</td>\n",
              "      <td>Being healthy mentally and physically is key...</td>\n",
              "    </tr>\n",
              "    <tr>\n",
              "      <th>16</th>\n",
              "      <td>16</td>\n",
              "      <td>15</td>\n",
              "      <td>So what I would say is that, you know, Freud’s...</td>\n",
              "      <td>.  Freud is often compared to a microscope and...</td>\n",
              "    </tr>\n",
              "    <tr>\n",
              "      <th>17</th>\n",
              "      <td>17</td>\n",
              "      <td>16</td>\n",
              "      <td>You know and that requires a fair bit of intel...</td>\n",
              "      <td>This year, grades will be curved and 7.5% of...</td>\n",
              "    </tr>\n",
              "    <tr>\n",
              "      <th>18</th>\n",
              "      <td>18</td>\n",
              "      <td>17</td>\n",
              "      <td>So, personality is a somewhat peculiar field o...</td>\n",
              "      <td>.  Personality is a complex field of study in ...</td>\n",
              "    </tr>\n",
              "    <tr>\n",
              "      <th>19</th>\n",
              "      <td>19</td>\n",
              "      <td>18</td>\n",
              "      <td>You know, you’re really really really really c...</td>\n",
              "      <td>.  People are complex and understanding them r...</td>\n",
              "    </tr>\n",
              "    <tr>\n",
              "      <th>20</th>\n",
              "      <td>20</td>\n",
              "      <td>19</td>\n",
              "      <td>Well, after all that. And, so, some people wil...</td>\n",
              "      <td>.  Data indicates that there are two ways to a...</td>\n",
              "    </tr>\n",
              "    <tr>\n",
              "      <th>21</th>\n",
              "      <td>21</td>\n",
              "      <td>20</td>\n",
              "      <td>You can even use your body as a representation...</td>\n",
              "      <td>. We can use our body to represent ourselves, ...</td>\n",
              "    </tr>\n",
              "    <tr>\n",
              "      <th>22</th>\n",
              "      <td>22</td>\n",
              "      <td>21</td>\n",
              "      <td>And there’s no way you can do that without bri...</td>\n",
              "      <td>. Bringing value judgments into the equation i...</td>\n",
              "    </tr>\n",
              "  </tbody>\n",
              "</table>\n",
              "</div>\n",
              "      <button class=\"colab-df-convert\" onclick=\"convertToInteractive('df-9731b34f-24bb-4d04-8bbd-6b60bfb41431')\"\n",
              "              title=\"Convert this dataframe to an interactive table.\"\n",
              "              style=\"display:none;\">\n",
              "        \n",
              "  <svg xmlns=\"http://www.w3.org/2000/svg\" height=\"24px\"viewBox=\"0 0 24 24\"\n",
              "       width=\"24px\">\n",
              "    <path d=\"M0 0h24v24H0V0z\" fill=\"none\"/>\n",
              "    <path d=\"M18.56 5.44l.94 2.06.94-2.06 2.06-.94-2.06-.94-.94-2.06-.94 2.06-2.06.94zm-11 1L8.5 8.5l.94-2.06 2.06-.94-2.06-.94L8.5 2.5l-.94 2.06-2.06.94zm10 10l.94 2.06.94-2.06 2.06-.94-2.06-.94-.94-2.06-.94 2.06-2.06.94z\"/><path d=\"M17.41 7.96l-1.37-1.37c-.4-.4-.92-.59-1.43-.59-.52 0-1.04.2-1.43.59L10.3 9.45l-7.72 7.72c-.78.78-.78 2.05 0 2.83L4 21.41c.39.39.9.59 1.41.59.51 0 1.02-.2 1.41-.59l7.78-7.78 2.81-2.81c.8-.78.8-2.07 0-2.86zM5.41 20L4 18.59l7.72-7.72 1.47 1.35L5.41 20z\"/>\n",
              "  </svg>\n",
              "      </button>\n",
              "      \n",
              "  <style>\n",
              "    .colab-df-container {\n",
              "      display:flex;\n",
              "      flex-wrap:wrap;\n",
              "      gap: 12px;\n",
              "    }\n",
              "\n",
              "    .colab-df-convert {\n",
              "      background-color: #E8F0FE;\n",
              "      border: none;\n",
              "      border-radius: 50%;\n",
              "      cursor: pointer;\n",
              "      display: none;\n",
              "      fill: #1967D2;\n",
              "      height: 32px;\n",
              "      padding: 0 0 0 0;\n",
              "      width: 32px;\n",
              "    }\n",
              "\n",
              "    .colab-df-convert:hover {\n",
              "      background-color: #E2EBFA;\n",
              "      box-shadow: 0px 1px 2px rgba(60, 64, 67, 0.3), 0px 1px 3px 1px rgba(60, 64, 67, 0.15);\n",
              "      fill: #174EA6;\n",
              "    }\n",
              "\n",
              "    [theme=dark] .colab-df-convert {\n",
              "      background-color: #3B4455;\n",
              "      fill: #D2E3FC;\n",
              "    }\n",
              "\n",
              "    [theme=dark] .colab-df-convert:hover {\n",
              "      background-color: #434B5C;\n",
              "      box-shadow: 0px 1px 3px 1px rgba(0, 0, 0, 0.15);\n",
              "      filter: drop-shadow(0px 1px 2px rgba(0, 0, 0, 0.3));\n",
              "      fill: #FFFFFF;\n",
              "    }\n",
              "  </style>\n",
              "\n",
              "      <script>\n",
              "        const buttonEl =\n",
              "          document.querySelector('#df-9731b34f-24bb-4d04-8bbd-6b60bfb41431 button.colab-df-convert');\n",
              "        buttonEl.style.display =\n",
              "          google.colab.kernel.accessAllowed ? 'block' : 'none';\n",
              "\n",
              "        async function convertToInteractive(key) {\n",
              "          const element = document.querySelector('#df-9731b34f-24bb-4d04-8bbd-6b60bfb41431');\n",
              "          const dataTable =\n",
              "            await google.colab.kernel.invokeFunction('convertToInteractive',\n",
              "                                                     [key], {});\n",
              "          if (!dataTable) return;\n",
              "\n",
              "          const docLinkHtml = 'Like what you see? Visit the ' +\n",
              "            '<a target=\"_blank\" href=https://colab.research.google.com/notebooks/data_table.ipynb>data table notebook</a>'\n",
              "            + ' to learn more about interactive tables.';\n",
              "          element.innerHTML = '';\n",
              "          dataTable['output_type'] = 'display_data';\n",
              "          await google.colab.output.renderOutput(dataTable, element);\n",
              "          const docLink = document.createElement('div');\n",
              "          docLink.innerHTML = docLinkHtml;\n",
              "          element.appendChild(docLink);\n",
              "        }\n",
              "      </script>\n",
              "    </div>\n",
              "  </div>\n",
              "  "
            ],
            "text/plain": [
              "    Unnamed: 0  cluster_ids  \\\n",
              "0            0           -1   \n",
              "1            1            0   \n",
              "2            2            1   \n",
              "3            3            2   \n",
              "4            4            3   \n",
              "5            5            4   \n",
              "6            6            5   \n",
              "7            7            6   \n",
              "8            8            7   \n",
              "9            9            8   \n",
              "10          10            9   \n",
              "11          11           10   \n",
              "12          12           11   \n",
              "13          13           12   \n",
              "14          14           13   \n",
              "15          15           14   \n",
              "16          16           15   \n",
              "17          17           16   \n",
              "18          18           17   \n",
              "19          19           18   \n",
              "20          20           19   \n",
              "21          21           20   \n",
              "22          22           21   \n",
              "\n",
              "                                                 text  \\\n",
              "0   So, there’s a website—I don’t really like Blac...   \n",
              "1   So, what I’m going to do today—how I’m going t...   \n",
              "2   So the first issue is that there’s a lot of re...   \n",
              "3   But I think we might as well jump right into t...   \n",
              "4   So when we’re first born—we’re very primitive ...   \n",
              "5   And so in the mirror test what you essentially...   \n",
              "6   Now, dolphins seem to be able to manage that, ...   \n",
              "7   Now, part of the reason for that is that Nietz...   \n",
              "8   It brings in elements of cultural history, ele...   \n",
              "9   Most of the brain is structured with the olfac...   \n",
              "10  But they like things cut and dried and laid ou...   \n",
              "11  So, welcome to Psychology 230. Nice to see you...   \n",
              "12  And useful, like there’s a difference between ...   \n",
              "13  and then you say “Well this is what it’s like....   \n",
              "14  You don’t really have to learn what anger mean...   \n",
              "15  You think in terms of the presence of positive...   \n",
              "16  So what I would say is that, you know, Freud’s...   \n",
              "17  You know and that requires a fair bit of intel...   \n",
              "18  So, personality is a somewhat peculiar field o...   \n",
              "19  You know, you’re really really really really c...   \n",
              "20  Well, after all that. And, so, some people wil...   \n",
              "21  You can even use your body as a representation...   \n",
              "22  And there’s no way you can do that without bri...   \n",
              "\n",
              "                                              summary  \n",
              "0                                     [NOISE_CLUSTER]  \n",
              "1     Jordan Peterson's course is wide-ranging and...  \n",
              "2     The speaker suggests reading novels, literat...  \n",
              "3     This article discusses rituals, stories, and...  \n",
              "4   .  Babies are born with limited control of the...  \n",
              "5   .  The Mirror Test is used to assess the socia...  \n",
              "6     Dolphins, crows, ravens, whales, and humans ...  \n",
              "7     Nietzsche argued that philosophers are often...  \n",
              "8   .  This discussion focuses on the elements of ...  \n",
              "9   . Humans have a unique brain structure with th...  \n",
              "10  .  Phenomenologists are a tricky bunch who are...  \n",
              "11  .  This is a welcome to Psychology 230. The in...  \n",
              "12  .  This text discusses the difference between ...  \n",
              "13  .  This text discusses the importance of takin...  \n",
              "14    It is not necessary to learn what anger mean...  \n",
              "15    Being healthy mentally and physically is key...  \n",
              "16  .  Freud is often compared to a microscope and...  \n",
              "17    This year, grades will be curved and 7.5% of...  \n",
              "18  .  Personality is a complex field of study in ...  \n",
              "19  .  People are complex and understanding them r...  \n",
              "20  .  Data indicates that there are two ways to a...  \n",
              "21  . We can use our body to represent ourselves, ...  \n",
              "22  . Bringing value judgments into the equation i...  "
            ]
          },
          "execution_count": 92,
          "metadata": {},
          "output_type": "execute_result"
        }
      ],
      "source": [
        "df"
      ]
    },
    {
      "cell_type": "code",
      "execution_count": null,
      "metadata": {
        "id": "NHktHjPVwxWi"
      },
      "outputs": [],
      "source": []
    },
    {
      "cell_type": "code",
      "execution_count": null,
      "metadata": {
        "id": "hrL9LJnUKosk"
      },
      "outputs": [],
      "source": []
    }
  ],
  "metadata": {
    "colab": {
      "provenance": []
    },
    "kernelspec": {
      "display_name": "Python 3",
      "name": "python3"
    },
    "language_info": {
      "name": "python",
      "version": "3.7.5"
    }
  },
  "nbformat": 4,
  "nbformat_minor": 0
}
