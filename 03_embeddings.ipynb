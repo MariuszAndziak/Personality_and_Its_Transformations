{
 "cells": [
  {
   "cell_type": "markdown",
   "metadata": {},
   "source": [
    "### Personality and It's Transformations ###"
   ]
  },
  {
   "cell_type": "markdown",
   "metadata": {},
   "source": [
    "An analysis of prof. Jordan Peterson's collection of lectures from University of Toronto personality course."
   ]
  },
  {
   "cell_type": "markdown",
   "metadata": {},
   "source": [
    "Lectures in video form provided at: https://www.youtube.com/playlist?list=PL22J3VaeABQAOhH1CLMNnMl2R-O1abW1T     |    More about prof. Peterson at https://www.jordanbpeterson.com/"
   ]
  },
  {
   "cell_type": "markdown",
   "metadata": {},
   "source": [
    "---"
   ]
  },
  {
   "cell_type": "code",
   "execution_count": 52,
   "metadata": {},
   "outputs": [],
   "source": [
    "import numpy as np\n",
    "import pandas as pd\n",
    "import matplotlib.pyplot as plt\n",
    "\n",
    "from sentence_transformers import SentenceTransformer\n",
    "\n",
    "from constants import *\n",
    "\n",
    "import umap\n",
    "import hdbscan\n",
    "from collections import Counter"
   ]
  },
  {
   "cell_type": "markdown",
   "metadata": {},
   "source": [
    "<div class=\"tomcolor8\">  \n",
    "<h4 style=\"background:#135e96; color:white ;font-size:15px;line-height:1em; text-align:left; padding: 20px\">\n",
    "      Loading the data</h4> \n",
    "</div>"
   ]
  },
  {
   "cell_type": "code",
   "execution_count": 3,
   "metadata": {},
   "outputs": [],
   "source": [
    "with open(f'{OUTPUT_FOLDER}\\{FINAL_CAPTIONS_FILE_NAME}', 'r', encoding='utf-8') as f:\n",
    "    data = f.readlines()\n",
    "data = [sent.replace('\\n', '') for sent in data]"
   ]
  },
  {
   "cell_type": "code",
   "execution_count": 4,
   "metadata": {},
   "outputs": [
    {
     "data": {
      "text/plain": [
       "['Well, after all that.',\n",
       " 'So, welcome to Psychology 230.',\n",
       " 'Nice to see you all here.',\n",
       " 'So, what I’m going to do today—how I’m going to start—is I’m going to give you an overview of the content of the course',\n",
       " 'and then I’ll give you an overview of the class requirements right at the end.']"
      ]
     },
     "execution_count": 4,
     "metadata": {},
     "output_type": "execute_result"
    }
   ],
   "source": [
    "data[:5]"
   ]
  },
  {
   "cell_type": "markdown",
   "metadata": {},
   "source": [
    "<div class=\"tomcolor8\">  \n",
    "<h4 style=\"background:#135e96; color:white ;font-size:15px;line-height:1em; text-align:left; padding: 20px\">\n",
    "      Checking the model</h4> \n",
    "</div>"
   ]
  },
  {
   "cell_type": "markdown",
   "metadata": {},
   "source": [
    "***Sentence-BERT*** - a modification of the pretrained BERT network will be used for sentence embeddings.   \n",
    "Paper on Sentence-BERT can be found at https://arxiv.org/abs/1908.10084"
   ]
  },
  {
   "cell_type": "code",
   "execution_count": 5,
   "metadata": {},
   "outputs": [],
   "source": [
    "model_name = 'all-MiniLM-L6-v2'\n",
    "model = SentenceTransformer(model_name)"
   ]
  },
  {
   "cell_type": "code",
   "execution_count": 6,
   "metadata": {},
   "outputs": [
    {
     "data": {
      "text/plain": [
       "256"
      ]
     },
     "execution_count": 6,
     "metadata": {},
     "output_type": "execute_result"
    }
   ],
   "source": [
    "model.max_seq_length"
   ]
  },
  {
   "cell_type": "markdown",
   "metadata": {},
   "source": [
    "The default model has length 256, but it must be increased because our longest sentence has 315 words and the number of tokens will be even greater. A max value of 512 will be set."
   ]
  },
  {
   "cell_type": "code",
   "execution_count": 7,
   "metadata": {},
   "outputs": [],
   "source": [
    "model.max_seq_length = SENT_LENGTH"
   ]
  },
  {
   "cell_type": "markdown",
   "metadata": {},
   "source": [
    "<div class=\"tomcolor8\">  \n",
    "<h4 style=\"background:#135e96; color:white ;font-size:15px;line-height:1em; text-align:left; padding: 20px\">\n",
    "      Embedding</h4> \n",
    "</div>"
   ]
  },
  {
   "cell_type": "code",
   "execution_count": 8,
   "metadata": {},
   "outputs": [
    {
     "name": "stderr",
     "output_type": "stream",
     "text": [
      "Batches: 100%|██████████| 48/48 [02:05<00:00,  2.61s/it]"
     ]
    },
    {
     "name": "stdout",
     "output_type": "stream",
     "text": [
      "Wall time: 2min 5s\n"
     ]
    },
    {
     "name": "stderr",
     "output_type": "stream",
     "text": [
      "\n"
     ]
    }
   ],
   "source": [
    "%%time\n",
    "\n",
    "embeddings = model.encode(data, batch_size=128, convert_to_numpy=True, show_progress_bar=True)"
   ]
  },
  {
   "cell_type": "code",
   "execution_count": 9,
   "metadata": {},
   "outputs": [
    {
     "name": "stdout",
     "output_type": "stream",
     "text": [
      "(6144, 384) <class 'numpy.ndarray'>\n"
     ]
    },
    {
     "data": {
      "text/plain": [
       "array([[-0.042135  , -0.00991856,  0.0509069 , ..., -0.05108282,\n",
       "         0.00194738,  0.04068652],\n",
       "       [ 0.00552613, -0.02808623, -0.04600509, ...,  0.05598029,\n",
       "         0.00492619, -0.03378102],\n",
       "       [-0.03447534, -0.04569017,  0.06889623, ...,  0.10120902,\n",
       "         0.02934075,  0.04402328],\n",
       "       ...,\n",
       "       [ 0.0612012 ,  0.02968354, -0.00442004, ..., -0.0268718 ,\n",
       "         0.04280903,  0.10524604],\n",
       "       [-0.11883845,  0.04829872, -0.00254809, ...,  0.12640946,\n",
       "         0.04654904, -0.01571726],\n",
       "       [-0.11883845,  0.04829872, -0.00254809, ...,  0.12640946,\n",
       "         0.04654904, -0.01571726]], dtype=float32)"
      ]
     },
     "execution_count": 9,
     "metadata": {},
     "output_type": "execute_result"
    }
   ],
   "source": [
    "print(embeddings.shape, type(embeddings))\n",
    "embeddings"
   ]
  },
  {
   "cell_type": "markdown",
   "metadata": {},
   "source": [
    "<div class=\"tomcolor8\">  \n",
    "<h4 style=\"background:#135e96; color:white ;font-size:15px;line-height:1em; text-align:left; padding: 20px\">\n",
    "      Dimensionality reduction</h4> \n",
    "</div>"
   ]
  },
  {
   "cell_type": "markdown",
   "metadata": {},
   "source": [
    "***UMAP*** is a dimensionality reduction algorytm published in 2020.    \n",
    "The original paper can be found here: https://arxiv.org/pdf/1802.03426.pdf"
   ]
  },
  {
   "cell_type": "code",
   "execution_count": 10,
   "metadata": {},
   "outputs": [],
   "source": [
    "neighbors = 10\n",
    "components = 5"
   ]
  },
  {
   "cell_type": "markdown",
   "metadata": {},
   "source": [
    "### Training the sample model ###"
   ]
  },
  {
   "cell_type": "code",
   "execution_count": 11,
   "metadata": {},
   "outputs": [
    {
     "name": "stdout",
     "output_type": "stream",
     "text": [
      "UMAP(angular_rp_forest=True, learning_rate=0.4, metric='cosine', min_dist=0.0, n_epochs=5000, n_neighbors=10, verbose=True)\n",
      "Sun Jan  8 16:42:20 2023 Construct fuzzy simplicial set\n",
      "Sun Jan  8 16:42:20 2023 Finding Nearest Neighbors\n",
      "Sun Jan  8 16:42:20 2023 Building RP forest with 9 trees\n",
      "Sun Jan  8 16:42:27 2023 NN descent for 13 iterations\n",
      "\t 1  /  13\n",
      "\t 2  /  13\n",
      "\t 3  /  13\n",
      "\t 4  /  13\n",
      "\t 5  /  13\n",
      "\t 6  /  13\n",
      "\t 7  /  13\n",
      "\t 8  /  13\n",
      "\tStopping threshold met -- exiting after 8 iterations\n",
      "Sun Jan  8 16:42:54 2023 Finished Nearest Neighbor Search\n",
      "Sun Jan  8 16:42:57 2023 Construct embedding\n"
     ]
    },
    {
     "name": "stderr",
     "output_type": "stream",
     "text": [
      "Epochs completed: 100%| ██████████ 5000/5000 [01:08]\n"
     ]
    },
    {
     "name": "stdout",
     "output_type": "stream",
     "text": [
      "Sun Jan  8 16:44:06 2023 Finished embedding\n",
      "Wall time: 1min 46s\n"
     ]
    }
   ],
   "source": [
    "%%time\n",
    "\n",
    "umap_embeddings = umap.UMAP(\n",
    "    n_neighbors = neighbors,\n",
    "    n_epochs = 5000,\n",
    "    min_dist = 0.0,\n",
    "    learning_rate = 0.4,\n",
    "    verbose = True,\n",
    "    metric = 'cosine').fit_transform(embeddings)"
   ]
  },
  {
   "cell_type": "code",
   "execution_count": 30,
   "metadata": {},
   "outputs": [
    {
     "name": "stdout",
     "output_type": "stream",
     "text": [
      "(6144, 2) <class 'numpy.ndarray'>\n"
     ]
    },
    {
     "data": {
      "text/plain": [
       "array([[-0.042135  , -0.00991856,  0.0509069 , ..., -0.05108282,\n",
       "         0.00194738,  0.04068652],\n",
       "       [ 0.00552613, -0.02808623, -0.04600509, ...,  0.05598029,\n",
       "         0.00492619, -0.03378102],\n",
       "       [-0.03447534, -0.04569017,  0.06889623, ...,  0.10120902,\n",
       "         0.02934075,  0.04402328],\n",
       "       ...,\n",
       "       [ 0.0612012 ,  0.02968354, -0.00442004, ..., -0.0268718 ,\n",
       "         0.04280903,  0.10524604],\n",
       "       [-0.11883845,  0.04829872, -0.00254809, ...,  0.12640946,\n",
       "         0.04654904, -0.01571726],\n",
       "       [-0.11883845,  0.04829872, -0.00254809, ...,  0.12640946,\n",
       "         0.04654904, -0.01571726]], dtype=float32)"
      ]
     },
     "execution_count": 30,
     "metadata": {},
     "output_type": "execute_result"
    }
   ],
   "source": [
    "print(umap_embeddings.shape, type(umap_embeddings))\n",
    "embeddings"
   ]
  },
  {
   "cell_type": "markdown",
   "metadata": {},
   "source": [
    "### Saving the model ###"
   ]
  },
  {
   "cell_type": "code",
   "execution_count": 26,
   "metadata": {},
   "outputs": [],
   "source": [
    "with open(f'{MODELS_FOLDER}\\{SAMPLE_UMAP_MODEL_NAME}.npy', 'wb') as f:\n",
    "    np.save(f, umap_embeddings)"
   ]
  },
  {
   "cell_type": "code",
   "execution_count": 27,
   "metadata": {},
   "outputs": [],
   "source": [
    "with open(f'{MODELS_FOLDER}\\{SAMPLE_UMAP_MODEL_NAME}.npy', 'rb') as f:\n",
    "    umap_model = np.load(f)"
   ]
  },
  {
   "cell_type": "markdown",
   "metadata": {},
   "source": [
    "<div class=\"tomcolor8\">  \n",
    "<h4 style=\"background:#135e96; color:white ;font-size:15px;line-height:1em; text-align:left; padding: 20px\">\n",
    "      Clustering</h4> \n",
    "</div>"
   ]
  },
  {
   "cell_type": "markdown",
   "metadata": {},
   "source": [
    "***HDBSCAN*** is a hierarchical clustering algorithm. It returns a good enough clustering straight away with little parameter tuning.   \n",
    "More information can be found here:\n",
    "https://nbviewer.org/github/scikit-learn-contrib/hdbscan/blob/master/notebooks/How%20HDBSCAN%20Works.ipynb  \n",
    "Link to offical repository: https://github.com/scikit-learn-contrib/hdbscan \n",
    "\n",
    "And comparison between DBSCAN and other clustering methods: https://nbviewer.org/github/scikit-learn-contrib/hdbscan/blob/master/notebooks/Comparing%20Clustering%20Algorithms.ipynb\n"
   ]
  },
  {
   "cell_type": "code",
   "execution_count": 33,
   "metadata": {},
   "outputs": [],
   "source": [
    "min_cluser_size = 60\n",
    "min_samples = 3"
   ]
  },
  {
   "cell_type": "code",
   "execution_count": 39,
   "metadata": {},
   "outputs": [
    {
     "name": "stdout",
     "output_type": "stream",
     "text": [
      "Wall time: 241 ms\n"
     ]
    }
   ],
   "source": [
    "%%time\n",
    "\n",
    "clusters = hdbscan.HDBSCAN(\n",
    "    min_cluster_size = min_cluser_size,\n",
    "    metric = 'euclidean',\n",
    "    min_samples = min_samples,\n",
    "    cluster_selection_epsilon = 0.1,\n",
    "    cluster_selection_method = 'leaf',\n",
    "    leaf_size = 35,\n",
    "    algorithm = 'best').fit(umap_embeddings)\n"
   ]
  },
  {
   "cell_type": "code",
   "execution_count": 114,
   "metadata": {},
   "outputs": [],
   "source": [
    "def cluster_statistics(clusters:hdbscan.hdbscan_.HDBSCAN):\n",
    "    summary = pd.DataFrame(columns = ['metric', 'value'])\n",
    "    summary.at[0, 'metric'] = 'Number of unique clusters'\n",
    "    summary.at[0, 'value'] = len(set(clusters.labels_))\n",
    "\n",
    "    cnt = Counter()\n",
    "    cnt.update(clusters.labels_)\n",
    "\n",
    "    sum_of_all_elements = sum([entry[1] for entry in cnt.most_common()])\n",
    "    sum_of_empty_elements = [entry[1] for entry in cnt.most_common() if entry[0] == -1][0]\n",
    "\n",
    "\n",
    "    summary.at[1, 'metric'] = 'Number of all sentences'\n",
    "    summary.at[1, 'value'] = sum_of_all_elements\n",
    "    \n",
    "    summary.at[2, 'metric'] = 'Number of noise'\n",
    "    percentage = '{:.4}'.format(str((sum_of_empty_elements/sum_of_all_elements)*100))\n",
    "    summary.at[2, 'value'] = f'{sum_of_empty_elements} ({percentage}%)'\n",
    "\n",
    "    summary\n",
    "    x, y= zip(*cnt.most_common())\n",
    "    plt.bar(x, y);\n",
    "    \n",
    "    return summary"
   ]
  },
  {
   "cell_type": "code",
   "execution_count": 115,
   "metadata": {},
   "outputs": [
    {
     "data": {
      "text/html": [
       "<div>\n",
       "<style scoped>\n",
       "    .dataframe tbody tr th:only-of-type {\n",
       "        vertical-align: middle;\n",
       "    }\n",
       "\n",
       "    .dataframe tbody tr th {\n",
       "        vertical-align: top;\n",
       "    }\n",
       "\n",
       "    .dataframe thead th {\n",
       "        text-align: right;\n",
       "    }\n",
       "</style>\n",
       "<table border=\"1\" class=\"dataframe\">\n",
       "  <thead>\n",
       "    <tr style=\"text-align: right;\">\n",
       "      <th></th>\n",
       "      <th>metric</th>\n",
       "      <th>value</th>\n",
       "    </tr>\n",
       "  </thead>\n",
       "  <tbody>\n",
       "    <tr>\n",
       "      <th>0</th>\n",
       "      <td>Number of unique clusters</td>\n",
       "      <td>34</td>\n",
       "    </tr>\n",
       "    <tr>\n",
       "      <th>1</th>\n",
       "      <td>Number of all sentences</td>\n",
       "      <td>6144</td>\n",
       "    </tr>\n",
       "    <tr>\n",
       "      <th>2</th>\n",
       "      <td>Number of noise</td>\n",
       "      <td>2035 (33.1%)</td>\n",
       "    </tr>\n",
       "  </tbody>\n",
       "</table>\n",
       "</div>"
      ],
      "text/plain": [
       "                      metric         value\n",
       "0  Number of unique clusters            34\n",
       "1    Number of all sentences          6144\n",
       "2            Number of noise  2035 (33.1%)"
      ]
     },
     "execution_count": 115,
     "metadata": {},
     "output_type": "execute_result"
    },
    {
     "data": {
      "image/png": "[encoded data removed]",
      "text/plain": [
       "<Figure size 432x288 with 1 Axes>"
      ]
     },
     "metadata": {
      "needs_background": "light"
     },
     "output_type": "display_data"
    }
   ],
   "source": [
    "cluster_statistics(clusters)"
   ]
  },
  {
   "cell_type": "markdown",
   "metadata": {},
   "source": [
    "<div class=\"tomcolor8\">  \n",
    "<h4 style=\"background:#135e96; color:white ;font-size:15px;line-height:1em; text-align:left; padding: 20px\">\n",
    "      Visualisation</h4> \n",
    "</div>"
   ]
  },
  {
   "cell_type": "code",
   "execution_count": 119,
   "metadata": {},
   "outputs": [
    {
     "name": "stdout",
     "output_type": "stream",
     "text": [
      "Wall time: 2min 40s\n"
     ]
    }
   ],
   "source": [
    "%%time\n",
    "\n",
    "umap_3d = umap.UMAP(\n",
    "    n_neighbors = neighbors,\n",
    "    n_components = 3,\n",
    "    min_dist = 0.5,\n",
    "    n_epochs = 9000,\n",
    "    learning_rate = 0.4,\n",
    "    metric = 'cosine').fit_transform(embeddings)"
   ]
  },
  {
   "cell_type": "code",
   "execution_count": 120,
   "metadata": {},
   "outputs": [
    {
     "data": {
      "text/plain": [
       "array([[-10.255381 ,  -0.7764898,  11.232977 ],\n",
       "       [-11.237078 ,  -4.3988147,  17.254658 ],\n",
       "       [-10.759359 ,  -0.4573234,  11.018052 ],\n",
       "       ...,\n",
       "       [-11.449824 ,  -2.2520685,  12.606069 ],\n",
       "       [ -9.170087 ,  -0.5147373,   9.051618 ],\n",
       "       [ -9.340469 ,  -0.5771049,   9.162561 ]], dtype=float32)"
      ]
     },
     "execution_count": 120,
     "metadata": {},
     "output_type": "execute_result"
    }
   ],
   "source": [
    "umap_3d"
   ]
  },
  {
   "cell_type": "code",
   "execution_count": null,
   "metadata": {},
   "outputs": [],
   "source": []
  }
 ],
 "metadata": {
  "interpreter": {
   "hash": "f5dc7221bd57f443bd21d92d893b3958d3081f94c6c945d5f95188cb4cde5b4f"
  },
  "kernelspec": {
   "display_name": "Python 3.7.5 64-bit",
   "language": "python",
   "name": "python3"
  },
  "language_info": {
   "codemirror_mode": {
    "name": "ipython",
    "version": 3
   },
   "file_extension": ".py",
   "mimetype": "text/x-python",
   "name": "python",
   "nbconvert_exporter": "python",
   "pygments_lexer": "ipython3",
   "version": "3.7.5"
  },
  "orig_nbformat": 4
 },
 "nbformat": 4,
 "nbformat_minor": 2
}
